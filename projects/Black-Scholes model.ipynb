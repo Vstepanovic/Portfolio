{
 "cells": [
  {
   "cell_type": "code",
   "execution_count": 1,
   "metadata": {},
   "outputs": [],
   "source": [
    "import math\n",
    "from scipy.stats import norm"
   ]
  },
  {
   "cell_type": "code",
   "execution_count": 73,
   "metadata": {},
   "outputs": [],
   "source": [
    "#Prix d'un call\n",
    "\n",
    "def black_scholes_calls(S, K, T, r, sigma):\n",
    "    d1 = (math.log(S/ K) + (r + x + sigma**2) * T) / (sigma * math.sqrt(T))\n",
    "    d2 = d1 - sigma * math.sqrt(T)\n",
    "    call_price = S * norm.cdf(d1) - K * math.exp(-r * T) * norm.cdf(d2)\n",
    "    return call_price"
   ]
  },
  {
   "cell_type": "code",
   "execution_count": 67,
   "metadata": {},
   "outputs": [],
   "source": [
    "#Prix d'un put\n",
    "\n",
    "def black_scholes_puts(S, K, T, r, sigma):\n",
    "    d1 = (math.log(S / K) + (r + x + sigma**2) *T) / (sigma * math.sqrt(T))\n",
    "    d2 = d1 - sigma * math.sqrt(T)\n",
    "    put_price = K * math.exp(-r * T) * norm.cdf(-d2) - S * norm.cdf(-d1)\n",
    "    return put_price"
   ]
  },
  {
   "cell_type": "code",
   "execution_count": 72,
   "metadata": {},
   "outputs": [
    {
     "name": "stdout",
     "output_type": "stream",
     "text": [
      "Le prix actuel de l'action est 100 € avec un prix d'exercice de 110 € , il reste 0.5 année avant expiration et on a un taux d'intérêt sans risque de 5.0 %, avec une volatilité de 0.25 .\n",
      "Prix de l'option call européenne (Black-Schles): 4.039552159347878 €.\n",
      "Prix de l'option put européenne (Black-Scholes): 11.323642482464464 €.\n"
     ]
    }
   ],
   "source": [
    "#Paramètres\n",
    "x = 0.05\n",
    "S = int(input(\"entrez le prix actuel de l'action\"))\n",
    "K = int(input(\"entrez le prix strike\"))\n",
    "T = float(input(\"entrez le temps jusqu'à expiration\"))\n",
    "r = float(input(\"entrez le taux d'intérêt sans risque\"))\n",
    "sigma = float(input(\"entrez la volatilité de l'action\"))\n",
    "\n",
    "print(\"Le prix actuel de l'action est\", S, \"€ avec un prix d'exercice de\", K, \"€ , il reste\", T, \n",
    "\"année avant expiration et on a un taux d'intérêt sans risque de\", r*100, \"%, avec une volatilité de\", sigma, \".\")\n",
    "\n",
    "#calcul des prix des options\n",
    "call_price = black_scholes_calls(S, K, T, r, sigma)\n",
    "put_price = black_scholes_puts(S, K, T, r, sigma)\n",
    "\n",
    "print(\"Prix de l'option call européenne (Black-Schles):\", call_price,\"€.\")\n",
    "print(\"Prix de l'option put européenne (Black-Scholes):\", put_price,\"€.\")\n"
   ]
  },
  {
   "cell_type": "code",
   "execution_count": null,
   "metadata": {},
   "outputs": [],
   "source": []
  }
 ],
 "metadata": {
  "kernelspec": {
   "display_name": "Python 3",
   "language": "python",
   "name": "python3"
  },
  "language_info": {
   "codemirror_mode": {
    "name": "ipython",
    "version": 3
   },
   "file_extension": ".py",
   "mimetype": "text/x-python",
   "name": "python",
   "nbconvert_exporter": "python",
   "pygments_lexer": "ipython3",
   "version": "3.10.4"
  },
  "orig_nbformat": 4
 },
 "nbformat": 4,
 "nbformat_minor": 2
}
