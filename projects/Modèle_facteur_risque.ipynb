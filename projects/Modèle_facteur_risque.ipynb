{
 "cells": [
  {
   "cell_type": "markdown",
   "id": "ee0acf8f",
   "metadata": {},
   "source": [
    "# Estimation d'un modèle de facteur de risque pour une action\n",
    "\n",
    "Dans ce projet nous allons utiliser des données financières en temps réels dans le but d'avoir les expositions factorielles et le risque spécifique d'un titre. Ici nous allons prendre la société Nestlé comme étude de cas et nous calculerons son rendement annuel attendu après avoir analyser les résultats de sa régression.\n",
    "\n",
    "Pour collecter ces données, nous allons utiliser la librairie pandas_datareader puis yahoo finance pour obtenir celles de l'entreprise Nestlé.\n",
    "\n",
    "Le modèle Fama-French est un modèle multifacteurs qui est utiliser pour estimer l'excès rendement d'un actif : c'est une extension du MEDAF. Il permet d'évaluer les performances d'investissements."
   ]
  },
  {
   "cell_type": "markdown",
   "id": "450fa56a",
   "metadata": {},
   "source": [
    "## Importation des librairies et collecte des données"
   ]
  },
  {
   "cell_type": "code",
   "execution_count": 2,
   "id": "81b2f0b6",
   "metadata": {},
   "outputs": [
    {
     "name": "stdout",
     "output_type": "stream",
     "text": [
      "Requirement already satisfied: yfinance in c:\\users\\boomi\\anaconda3\\lib\\site-packages (0.2.14)\n",
      "Requirement already satisfied: cryptography>=3.3.2 in c:\\users\\boomi\\anaconda3\\lib\\site-packages (from yfinance) (39.0.1)\n",
      "Requirement already satisfied: lxml>=4.9.1 in c:\\users\\boomi\\anaconda3\\lib\\site-packages (from yfinance) (4.9.1)\n",
      "Requirement already satisfied: numpy>=1.16.5 in c:\\users\\boomi\\anaconda3\\lib\\site-packages (from yfinance) (1.23.5)\n",
      "Requirement already satisfied: requests>=2.26 in c:\\users\\boomi\\anaconda3\\lib\\site-packages (from yfinance) (2.28.1)\n",
      "Requirement already satisfied: appdirs>=1.4.4 in c:\\users\\boomi\\anaconda3\\lib\\site-packages (from yfinance) (1.4.4)\n",
      "Requirement already satisfied: pandas>=1.3.0 in c:\\users\\boomi\\anaconda3\\lib\\site-packages (from yfinance) (2.0.0)\n",
      "Requirement already satisfied: pytz>=2022.5 in c:\\users\\boomi\\anaconda3\\lib\\site-packages (from yfinance) (2022.7)\n",
      "Requirement already satisfied: beautifulsoup4>=4.11.1 in c:\\users\\boomi\\anaconda3\\lib\\site-packages (from yfinance) (4.11.1)\n",
      "Requirement already satisfied: multitasking>=0.0.7 in c:\\users\\boomi\\anaconda3\\lib\\site-packages (from yfinance) (0.0.11)\n",
      "Requirement already satisfied: frozendict>=2.3.4 in c:\\users\\boomi\\anaconda3\\lib\\site-packages (from yfinance) (2.3.6)\n",
      "Requirement already satisfied: html5lib>=1.1 in c:\\users\\boomi\\anaconda3\\lib\\site-packages (from yfinance) (1.1)\n",
      "Requirement already satisfied: soupsieve>1.2 in c:\\users\\boomi\\anaconda3\\lib\\site-packages (from beautifulsoup4>=4.11.1->yfinance) (2.3.2.post1)\n",
      "Requirement already satisfied: cffi>=1.12 in c:\\users\\boomi\\anaconda3\\lib\\site-packages (from cryptography>=3.3.2->yfinance) (1.15.1)\n",
      "Requirement already satisfied: webencodings in c:\\users\\boomi\\anaconda3\\lib\\site-packages (from html5lib>=1.1->yfinance) (0.5.1)\n",
      "Requirement already satisfied: six>=1.9 in c:\\users\\boomi\\anaconda3\\lib\\site-packages (from html5lib>=1.1->yfinance) (1.16.0)\n",
      "Requirement already satisfied: python-dateutil>=2.8.2 in c:\\users\\boomi\\anaconda3\\lib\\site-packages (from pandas>=1.3.0->yfinance) (2.8.2)\n",
      "Requirement already satisfied: tzdata>=2022.1 in c:\\users\\boomi\\anaconda3\\lib\\site-packages (from pandas>=1.3.0->yfinance) (2023.3)\n",
      "Requirement already satisfied: charset-normalizer<3,>=2 in c:\\users\\boomi\\anaconda3\\lib\\site-packages (from requests>=2.26->yfinance) (2.0.4)\n",
      "Requirement already satisfied: urllib3<1.27,>=1.21.1 in c:\\users\\boomi\\anaconda3\\lib\\site-packages (from requests>=2.26->yfinance) (1.26.15)\n",
      "Requirement already satisfied: certifi>=2017.4.17 in c:\\users\\boomi\\anaconda3\\lib\\site-packages (from requests>=2.26->yfinance) (2022.12.7)\n",
      "Requirement already satisfied: idna<4,>=2.5 in c:\\users\\boomi\\anaconda3\\lib\\site-packages (from requests>=2.26->yfinance) (3.4)\n",
      "Requirement already satisfied: pycparser in c:\\users\\boomi\\anaconda3\\lib\\site-packages (from cffi>=1.12->cryptography>=3.3.2->yfinance) (2.21)\n"
     ]
    }
   ],
   "source": [
    "!pip install yfinance"
   ]
  },
  {
   "cell_type": "code",
   "execution_count": 3,
   "id": "a1b179f7",
   "metadata": {},
   "outputs": [],
   "source": [
    "import pandas as pd\n",
    "import pandas_datareader\n",
    "import matplotlib.pyplot as plt\n",
    "import yfinance as yf\n",
    "yf.pdr_override()\n",
    "\n",
    "from statsmodels.api import OLS\n",
    "import statsmodels.tools"
   ]
  },
  {
   "cell_type": "markdown",
   "id": "df48d758",
   "metadata": {},
   "source": [
    "Nous allons prendre les données dans la librairie 'famafrench', données provenants de Ken French, économiste américain. Elle contient les rendements des facteurs de risque communs."
   ]
  },
  {
   "cell_type": "code",
   "execution_count": 4,
   "id": "0c27bcb9",
   "metadata": {},
   "outputs": [
    {
     "data": {
      "text/plain": [
       "['F-F_Research_Data_Factors',\n",
       " 'F-F_Research_Data_Factors_weekly',\n",
       " 'F-F_Research_Data_Factors_daily',\n",
       " 'F-F_Research_Data_5_Factors_2x3',\n",
       " 'F-F_Research_Data_5_Factors_2x3_daily',\n",
       " 'Portfolios_Formed_on_ME',\n",
       " 'Portfolios_Formed_on_ME_Wout_Div',\n",
       " 'Portfolios_Formed_on_ME_Daily',\n",
       " 'Portfolios_Formed_on_BE-ME',\n",
       " 'Portfolios_Formed_on_BE-ME_Wout_Div',\n",
       " 'Portfolios_Formed_on_BE-ME_Daily',\n",
       " 'Portfolios_Formed_on_OP',\n",
       " 'Portfolios_Formed_on_OP_Wout_Div',\n",
       " 'Portfolios_Formed_on_OP_Daily',\n",
       " 'Portfolios_Formed_on_INV',\n",
       " 'Portfolios_Formed_on_INV_Wout_Div',\n",
       " 'Portfolios_Formed_on_INV_Daily',\n",
       " '6_Portfolios_2x3',\n",
       " '6_Portfolios_2x3_Wout_Div',\n",
       " '6_Portfolios_2x3_weekly',\n",
       " '6_Portfolios_2x3_daily',\n",
       " '25_Portfolios_5x5',\n",
       " '25_Portfolios_5x5_Wout_Div',\n",
       " '25_Portfolios_5x5_Daily',\n",
       " '100_Portfolios_10x10',\n",
       " '100_Portfolios_10x10_Wout_Div',\n",
       " '100_Portfolios_10x10_Daily',\n",
       " '6_Portfolios_ME_OP_2x3',\n",
       " '6_Portfolios_ME_OP_2x3_Wout_Div',\n",
       " '6_Portfolios_ME_OP_2x3_daily',\n",
       " '25_Portfolios_ME_OP_5x5',\n",
       " '25_Portfolios_ME_OP_5x5_Wout_Div',\n",
       " '25_Portfolios_ME_OP_5x5_daily',\n",
       " '100_Portfolios_ME_OP_10x10',\n",
       " '100_Portfolios_10x10_ME_OP_Wout_Div',\n",
       " '100_Portfolios_ME_OP_10x10_daily',\n",
       " '6_Portfolios_ME_INV_2x3',\n",
       " '6_Portfolios_ME_INV_2x3_Wout_Div',\n",
       " '6_Portfolios_ME_INV_2x3_daily',\n",
       " '25_Portfolios_ME_INV_5x5',\n",
       " '25_Portfolios_ME_INV_5x5_Wout_Div',\n",
       " '25_Portfolios_ME_INV_5x5_daily',\n",
       " '100_Portfolios_ME_INV_10x10',\n",
       " '100_Portfolios_10x10_ME_INV_Wout_Div',\n",
       " '100_Portfolios_ME_INV_10x10_daily',\n",
       " '25_Portfolios_BEME_OP_5x5',\n",
       " '25_Portfolios_BEME_OP_5x5_Wout_Div',\n",
       " '25_Portfolios_BEME_OP_5x5_daily',\n",
       " '25_Portfolios_BEME_INV_5x5',\n",
       " '25_Portfolios_BEME_INV_5x5_Wout_Div',\n",
       " '25_Portfolios_BEME_INV_5x5_daily',\n",
       " '25_Portfolios_OP_INV_5x5',\n",
       " '25_Portfolios_OP_INV_5x5_Wout_Div',\n",
       " '25_Portfolios_OP_INV_5x5_daily',\n",
       " '32_Portfolios_ME_BEME_OP_2x4x4',\n",
       " '32_Portfolios_ME_BEME_OP_2x4x4_Wout_Div',\n",
       " '32_Portfolios_ME_BEME_INV_2x4x4',\n",
       " '32_Portfolios_ME_BEME_INV_2x4x4_Wout_Div',\n",
       " '32_Portfolios_ME_OP_INV_2x4x4',\n",
       " '32_Portfolios_ME_OP_INV_2x4x4_Wout_Div',\n",
       " 'Portfolios_Formed_on_E-P',\n",
       " 'Portfolios_Formed_on_E-P_Wout_Div',\n",
       " 'Portfolios_Formed_on_CF-P',\n",
       " 'Portfolios_Formed_on_CF-P_Wout_Div',\n",
       " 'Portfolios_Formed_on_D-P',\n",
       " 'Portfolios_Formed_on_D-P_Wout_Div',\n",
       " '6_Portfolios_ME_EP_2x3',\n",
       " '6_Portfolios_ME_EP_2x3_Wout_Div',\n",
       " '6_Portfolios_ME_CFP_2x3',\n",
       " '6_Portfolios_ME_CFP_2x3_Wout_Div',\n",
       " '6_Portfolios_ME_DP_2x3',\n",
       " '6_Portfolios_ME_DP_2x3_Wout_Div',\n",
       " 'F-F_Momentum_Factor',\n",
       " 'F-F_Momentum_Factor_daily',\n",
       " '6_Portfolios_ME_Prior_12_2',\n",
       " '6_Portfolios_ME_Prior_12_2_Daily',\n",
       " '25_Portfolios_ME_Prior_12_2',\n",
       " '25_Portfolios_ME_Prior_12_2_Daily',\n",
       " '10_Portfolios_Prior_12_2',\n",
       " '10_Portfolios_Prior_12_2_Daily',\n",
       " 'F-F_ST_Reversal_Factor',\n",
       " 'F-F_ST_Reversal_Factor_daily',\n",
       " '6_Portfolios_ME_Prior_1_0',\n",
       " '6_Portfolios_ME_Prior_1_0_Daily',\n",
       " '25_Portfolios_ME_Prior_1_0',\n",
       " '25_Portfolios_ME_Prior_1_0_Daily',\n",
       " '10_Portfolios_Prior_1_0',\n",
       " '10_Portfolios_Prior_1_0_Daily',\n",
       " 'F-F_LT_Reversal_Factor',\n",
       " 'F-F_LT_Reversal_Factor_daily',\n",
       " '6_Portfolios_ME_Prior_60_13',\n",
       " '6_Portfolios_ME_Prior_60_13_Daily',\n",
       " '25_Portfolios_ME_Prior_60_13',\n",
       " '25_Portfolios_ME_Prior_60_13_Daily',\n",
       " '10_Portfolios_Prior_60_13',\n",
       " '10_Portfolios_Prior_60_13_Daily',\n",
       " 'Portfolios_Formed_on_AC',\n",
       " '25_Portfolios_ME_AC_5x5',\n",
       " 'Portfolios_Formed_on_BETA',\n",
       " '25_Portfolios_ME_BETA_5x5',\n",
       " 'Portfolios_Formed_on_NI',\n",
       " '25_Portfolios_ME_NI_5x5',\n",
       " 'Portfolios_Formed_on_VAR',\n",
       " '25_Portfolios_ME_VAR_5x5',\n",
       " 'Portfolios_Formed_on_RESVAR',\n",
       " '25_Portfolios_ME_RESVAR_5x5',\n",
       " '5_Industry_Portfolios',\n",
       " '5_Industry_Portfolios_Wout_Div',\n",
       " '5_Industry_Portfolios_daily',\n",
       " '10_Industry_Portfolios',\n",
       " '10_Industry_Portfolios_Wout_Div',\n",
       " '10_Industry_Portfolios_daily',\n",
       " '12_Industry_Portfolios',\n",
       " '12_Industry_Portfolios_Wout_Div',\n",
       " '12_Industry_Portfolios_daily',\n",
       " '17_Industry_Portfolios',\n",
       " '17_Industry_Portfolios_Wout_Div',\n",
       " '17_Industry_Portfolios_daily',\n",
       " '30_Industry_Portfolios',\n",
       " '30_Industry_Portfolios_Wout_Div',\n",
       " '30_Industry_Portfolios_daily',\n",
       " '38_Industry_Portfolios',\n",
       " '38_Industry_Portfolios_Wout_Div',\n",
       " '38_Industry_Portfolios_daily',\n",
       " '48_Industry_Portfolios',\n",
       " '48_Industry_Portfolios_Wout_Div',\n",
       " '48_Industry_Portfolios_daily',\n",
       " '49_Industry_Portfolios',\n",
       " '49_Industry_Portfolios_Wout_Div',\n",
       " '49_Industry_Portfolios_daily',\n",
       " 'ME_Breakpoints',\n",
       " 'BE-ME_Breakpoints',\n",
       " 'OP_Breakpoints',\n",
       " 'INV_Breakpoints',\n",
       " 'E-P_Breakpoints',\n",
       " 'CF-P_Breakpoints',\n",
       " 'D-P_Breakpoints',\n",
       " 'Prior_2-12_Breakpoints',\n",
       " 'Developed_3_Factors',\n",
       " 'Developed_3_Factors_Daily',\n",
       " 'Developed_ex_US_3_Factors',\n",
       " 'Developed_ex_US_3_Factors_Daily',\n",
       " 'Europe_3_Factors',\n",
       " 'Europe_3_Factors_Daily',\n",
       " 'Japan_3_Factors',\n",
       " 'Japan_3_Factors_Daily',\n",
       " 'Asia_Pacific_ex_Japan_3_Factors',\n",
       " 'Asia_Pacific_ex_Japan_3_Factors_Daily',\n",
       " 'North_America_3_Factors',\n",
       " 'North_America_3_Factors_Daily',\n",
       " 'Developed_5_Factors',\n",
       " 'Developed_5_Factors_Daily',\n",
       " 'Developed_ex_US_5_Factors',\n",
       " 'Developed_ex_US_5_Factors_Daily',\n",
       " 'Europe_5_Factors',\n",
       " 'Europe_5_Factors_Daily',\n",
       " 'Japan_5_Factors',\n",
       " 'Japan_5_Factors_Daily',\n",
       " 'Asia_Pacific_ex_Japan_5_Factors',\n",
       " 'Asia_Pacific_ex_Japan_5_Factors_Daily',\n",
       " 'North_America_5_Factors',\n",
       " 'North_America_5_Factors_Daily',\n",
       " 'Developed_Mom_Factor',\n",
       " 'Developed_Mom_Factor_Daily',\n",
       " 'Developed_ex_US_Mom_Factor',\n",
       " 'Developed_ex_US_Mom_Factor_Daily',\n",
       " 'Europe_Mom_Factor',\n",
       " 'Europe_Mom_Factor_Daily',\n",
       " 'Japan_Mom_Factor',\n",
       " 'Japan_Mom_Factor_Daily',\n",
       " 'Asia_Pacific_ex_Japan_MOM_Factor',\n",
       " 'Asia_Pacific_ex_Japan_MOM_Factor_Daily',\n",
       " 'North_America_Mom_Factor',\n",
       " 'North_America_Mom_Factor_Daily',\n",
       " 'Developed_6_Portfolios_ME_BE-ME',\n",
       " 'Developed_6_Portfolios_ME_BE-ME_daily',\n",
       " 'Developed_ex_US_6_Portfolios_ME_BE-ME',\n",
       " 'Developed_ex_US_6_Portfolios_ME_BE-ME_daily',\n",
       " 'Europe_6_Portfolios_ME_BE-ME',\n",
       " 'Europe_6_Portfolios_ME_BE-ME_daily',\n",
       " 'Japan_6_Portfolios_ME_BE-ME',\n",
       " 'Japan_6_Portfolios_ME_BE-ME_daily',\n",
       " 'Asia_Pacific_ex_Japan_6_Portfolios_ME_BE-ME',\n",
       " 'Asia_Pacific_ex_Japan_6_Portfolios_ME_BE-ME_daily',\n",
       " 'North_America_6_Portfolios_ME_BE-ME',\n",
       " 'North_America_6_Portfolios_ME_BE-ME_daily',\n",
       " 'Developed_25_Portfolios_ME_BE-ME',\n",
       " 'Developed_25_Portfolios_ME_BE-ME_daily',\n",
       " 'Developed_ex_US_25_Portfolios_ME_BE-ME',\n",
       " 'Developed_ex_US_25_Portfolios_ME_BE-ME_daily',\n",
       " 'Europe_25_Portfolios_ME_BE-ME',\n",
       " 'Europe_25_Portfolios_ME_BE-ME_daily',\n",
       " 'Japan_25_Portfolios_ME_BE-ME',\n",
       " 'Japan_25_Portfolios_ME_BE-ME_daily',\n",
       " 'Asia_Pacific_ex_Japan_25_Portfolios_ME_BE-ME',\n",
       " 'Asia_Pacific_ex_Japan_25_Portfolios_ME_BE-ME_daily',\n",
       " 'North_America_25_Portfolios_ME_BE-ME',\n",
       " 'North_America_25_Portfolios_ME_BE-ME_daily',\n",
       " 'Developed_6_Portfolios_ME_OP',\n",
       " 'Developed_6_Portfolios_ME_OP_Daily',\n",
       " 'Developed_ex_US_6_Portfolios_ME_OP',\n",
       " 'Developed_ex_US_6_Portfolios_ME_OP_Daily',\n",
       " 'Europe_6_Portfolios_ME_OP',\n",
       " 'Europe_6_Portfolios_ME_OP_Daily',\n",
       " 'Japan_6_Portfolios_ME_OP',\n",
       " 'Japan_6_Portfolios_ME_OP_Daily',\n",
       " 'Asia_Pacific_ex_Japan_6_Portfolios_ME_OP',\n",
       " 'Asia_Pacific_ex_Japan_6_Portfolios_ME_OP_Daily',\n",
       " 'North_America_6_Portfolios_ME_OP',\n",
       " 'North_America_6_Portfolios_ME_OP_Daily',\n",
       " 'Developed_25_Portfolios_ME_OP',\n",
       " 'Developed_25_Portfolios_ME_OP_Daily',\n",
       " 'Developed_ex_US_25_Portfolios_ME_OP',\n",
       " 'Developed_ex_US_25_Portfolios_ME_OP_Daily',\n",
       " 'Europe_25_Portfolios_ME_OP',\n",
       " 'Europe_25_Portfolios_ME_OP_Daily',\n",
       " 'Japan_25_Portfolios_ME_OP',\n",
       " 'Japan_25_Portfolios_ME_OP_Daily',\n",
       " 'Asia_Pacific_ex_Japan_25_Portfolios_ME_OP',\n",
       " 'Asia_Pacific_ex_Japan_25_Portfolios_ME_OP_Daily',\n",
       " 'North_America_25_Portfolios_ME_OP',\n",
       " 'North_America_25_Portfolios_ME_OP_Daily',\n",
       " 'Developed_6_Portfolios_ME_INV',\n",
       " 'Developed_6_Portfolios_ME_INV_Daily',\n",
       " 'Developed_ex_US_6_Portfolios_ME_INV',\n",
       " 'Developed_ex_US_6_Portfolios_ME_INV_Daily',\n",
       " 'Europe_6_Portfolios_ME_INV',\n",
       " 'Europe_6_Portfolios_ME_INV_Daily',\n",
       " 'Japan_6_Portfolios_ME_INV',\n",
       " 'Japan_6_Portfolios_ME_INV_Daily',\n",
       " 'Asia_Pacific_ex_Japan_6_Portfolios_ME_INV',\n",
       " 'Asia_Pacific_ex_Japan_6_Portfolios_ME_INV_Daily',\n",
       " 'North_America_6_Portfolios_ME_INV',\n",
       " 'North_America_6_Portfolios_ME_INV_Daily',\n",
       " 'Developed_25_Portfolios_ME_INV',\n",
       " 'Developed_25_Portfolios_ME_INV_Daily',\n",
       " 'Developed_ex_US_25_Portfolios_ME_INV',\n",
       " 'Developed_ex_US_25_Portfolios_ME_INV_Daily',\n",
       " 'Europe_25_Portfolios_ME_INV',\n",
       " 'Europe_25_Portfolios_ME_INV_Daily',\n",
       " 'Japan_25_Portfolios_ME_INV',\n",
       " 'Japan_25_Portfolios_ME_INV_Daily',\n",
       " 'Asia_Pacific_ex_Japan_25_Portfolios_ME_INV',\n",
       " 'Asia_Pacific_ex_Japan_25_Portfolios_ME_INV_Daily',\n",
       " 'North_America_25_Portfolios_ME_INV',\n",
       " 'North_America_25_Portfolios_ME_INV_Daily',\n",
       " 'Developed_6_Portfolios_ME_Prior_12_2',\n",
       " 'Developed_6_Portfolios_ME_Prior_250_20_daily',\n",
       " 'Developed_ex_US_6_Portfolios_ME_Prior_12_2',\n",
       " 'Developed_ex_US_6_Portfolios_ME_Prior_250_20_daily',\n",
       " 'Europe_6_Portfolios_ME_Prior_12_2',\n",
       " 'Europe_6_Portfolios_ME_Prior_250_20_daily',\n",
       " 'Japan_6_Portfolios_ME_Prior_12_2',\n",
       " 'Japan_6_Portfolios_ME_Prior_250_20_daily',\n",
       " 'Asia_Pacific_ex_Japan_6_Portfolios_ME_Prior_12_2',\n",
       " 'Asia_Pacific_ex_Japan_6_Portfolios_ME_Prior_250_20_daily',\n",
       " 'North_America_6_Portfolios_ME_Prior_12_2',\n",
       " 'North_America_6_Portfolios_ME_Prior_250_20_daily',\n",
       " 'Developed_25_Portfolios_ME_Prior_12_2',\n",
       " 'Developed_25_Portfolios_ME_Prior_250_20_daily',\n",
       " 'Developed_ex_US_25_Portfolios_ME_Prior_12_2',\n",
       " 'Developed_ex_US_25_Portfolios_ME_Prior_250_20_daily',\n",
       " 'Europe_25_Portfolios_ME_Prior_12_2',\n",
       " 'Europe_25_Portfolios_ME_Prior_250_20_daily',\n",
       " 'Japan_25_Portfolios_ME_Prior_12_2',\n",
       " 'Japan_25_Portfolios_ME_Prior_250_20_daily',\n",
       " 'Asia_Pacific_ex_Japan_25_Portfolios_ME_Prior_12_2',\n",
       " 'Asia_Pacific_ex_Japan_25_Portfolios_ME_Prior_250_20_daily',\n",
       " 'North_America_25_Portfolios_ME_Prior_12_2',\n",
       " 'North_America_25_Portfolios_ME_Prior_250_20_daily',\n",
       " 'Developed_32_Portfolios_ME_BE-ME_OP_2x4x4',\n",
       " 'Developed_ex_US_32_Portfolios_ME_BE-ME_OP_2x4x4',\n",
       " 'Europe_32_Portfolios_ME_BE-ME_OP_2x4x4',\n",
       " 'Japan_32_Portfolios_ME_BE-ME_OP_2x4x4',\n",
       " 'Asia_Pacific_ex_Japan_32_Portfolios_ME_BE-ME_OP_2x4x4',\n",
       " 'North_America_32_Portfolios_ME_BE-ME_OP_2x4x4',\n",
       " 'Developed_32_Portfolios_ME_BE-ME_INV(TA)_2x4x4',\n",
       " 'Developed_ex_US_32_Portfolios_ME_BE-ME_INV(TA)_2x4x4',\n",
       " 'Europe_32_Portfolios_ME_BE-ME_INV(TA)_2x4x4',\n",
       " 'Japan_32_Portfolios_ME_BE-ME_INV(TA)_2x4x4',\n",
       " 'Asia_Pacific_ex_Japan_32_Portfolios_ME_BE-ME_INV(TA)_2x4x4',\n",
       " 'North_America_32_Portfolios_ME_BE-ME_INV(TA)_2x4x4',\n",
       " 'Developed_32_Portfolios_ME_INV(TA)_OP_2x4x4',\n",
       " 'Developed_ex_US_32_Portfolios_ME_INV(TA)_OP_2x4x4',\n",
       " 'Europe_32_Portfolios_ME_INV(TA)_OP_2x4x4',\n",
       " 'Japan_32_Portfolios_ME_INV(TA)_OP_2x4x4',\n",
       " 'Asia_Pacific_ex_Japan_32_Portfolios_ME_INV(TA)_OP_2x4x4',\n",
       " 'North_America_32_Portfolios_ME_INV(TA)_OP_2x4x4',\n",
       " 'Emerging_5_Factors',\n",
       " 'Emerging_MOM_Factor',\n",
       " 'Emerging_Markets_6_Portfolios_ME_BE-ME',\n",
       " 'Emerging_Markets_6_Portfolios_ME_OP',\n",
       " 'Emerging_Markets_6_Portfolios_ME_INV',\n",
       " 'Emerging_Markets_6_Portfolios_ME_Prior_12_2',\n",
       " 'Emerging_Markets_4_Portfolios_BE-ME_OP',\n",
       " 'Emerging_Markets_4_Portfolios_OP_INV',\n",
       " 'Emerging_Markets_4_Portfolios_BE-ME_INV']"
      ]
     },
     "execution_count": 4,
     "metadata": {},
     "output_type": "execute_result"
    }
   ],
   "source": [
    "pandas_datareader.famafrench.get_available_datasets()"
   ]
  },
  {
   "cell_type": "code",
   "execution_count": 5,
   "id": "d4cd2990",
   "metadata": {},
   "outputs": [],
   "source": [
    "#Nous allons choisir une date de départ\n",
    "start = \"1980-01-01\""
   ]
  },
  {
   "cell_type": "markdown",
   "id": "8aa0355b",
   "metadata": {},
   "source": [
    "## Création de nos dataframes et visualisation graphique"
   ]
  },
  {
   "cell_type": "markdown",
   "id": "a0c9960c",
   "metadata": {},
   "source": [
    "Nous allons utiliser pandas_dataread pour obtenir les 3 facteurs de famafrench depuis 1980 et créer une dataframe."
   ]
  },
  {
   "cell_type": "code",
   "execution_count": 6,
   "id": "e3ca896b",
   "metadata": {},
   "outputs": [],
   "source": [
    "df = pandas_datareader.famafrench.FamaFrenchReader('F-F_Research_Data_Factors', freq='M', start=start).read() #fréquence mensuelle"
   ]
  },
  {
   "cell_type": "code",
   "execution_count": 7,
   "id": "114850ff",
   "metadata": {},
   "outputs": [
    {
     "data": {
      "text/plain": [
       "{0:          Mkt-RF   SMB   HML    RF\n",
       " Date                             \n",
       " 1980-01    5.51  1.62  1.75  0.80\n",
       " 1980-02   -1.22 -1.85  0.61  0.89\n",
       " 1980-03  -12.90 -6.64 -1.01  1.21\n",
       " 1980-04    3.97  1.05  1.06  1.26\n",
       " 1980-05    5.26  2.13  0.38  0.81\n",
       " ...         ...   ...   ...   ...\n",
       " 2022-10    7.83  0.09  8.05  0.23\n",
       " 2022-11    4.60 -3.40  1.38  0.29\n",
       " 2022-12   -6.41 -0.68  1.32  0.33\n",
       " 2023-01    6.65  5.02 -4.05  0.35\n",
       " 2023-02   -2.58  1.10 -0.80  0.34\n",
       " \n",
       " [518 rows x 4 columns],\n",
       " 1:       Mkt-RF    SMB    HML     RF\n",
       " Date                             \n",
       " 1980   22.13   5.66 -24.61  11.24\n",
       " 1981  -18.13   7.11  25.04  14.71\n",
       " 1982   10.66   8.68  13.29  10.54\n",
       " 1983   13.75  14.00  20.52   8.80\n",
       " 1984   -6.05  -8.22  19.13   9.85\n",
       " 1985   24.91   0.55   1.29   7.72\n",
       " 1986   10.12  -9.55   9.34   6.16\n",
       " 1987   -3.87 -10.95  -1.70   5.47\n",
       " 1988   11.55   5.78  14.99   6.35\n",
       " 1989   20.49 -12.86  -4.03   8.37\n",
       " 1990  -13.95 -13.99 -10.03   7.81\n",
       " 1991   29.18  16.08 -14.72   5.60\n",
       " 1992    6.23   7.74  24.49   3.51\n",
       " 1993    8.21   6.37  16.96   2.90\n",
       " 1994   -4.10  -0.46  -0.89   3.90\n",
       " 1995   31.22  -9.75   5.97   5.60\n",
       " 1996   15.96  -4.45   8.67   5.21\n",
       " 1997   25.96  -7.75  19.01   5.26\n",
       " 1998   19.46 -25.26 -10.47   4.86\n",
       " 1999   20.57  15.34 -31.65   4.68\n",
       " 2000  -17.60  -4.60  44.99   5.89\n",
       " 2001  -15.21  18.13  18.54   3.83\n",
       " 2002  -22.76   4.40   8.16   1.65\n",
       " 2003   30.75  26.78   4.97   1.02\n",
       " 2004   10.72   4.45   7.63   1.20\n",
       " 2005    3.09  -2.36   9.41   2.98\n",
       " 2006   10.60   0.09  11.92   4.80\n",
       " 2007    1.04  -7.36 -17.28   4.66\n",
       " 2008  -38.34   2.44   1.00   1.60\n",
       " 2009   28.26   9.18  -9.65   0.10\n",
       " 2010   17.37  14.19  -5.22   0.12\n",
       " 2011    0.44  -5.71  -8.42   0.04\n",
       " 2012   16.27  -1.40  10.00   0.06\n",
       " 2013   35.20   7.75   2.60   0.02\n",
       " 2014   11.71  -7.86  -1.45   0.02\n",
       " 2015    0.09  -3.99  -9.65   0.02\n",
       " 2016   13.30   6.66  22.75   0.20\n",
       " 2017   21.51  -4.97 -13.51   0.80\n",
       " 2018   -6.95  -3.21  -9.73   1.83\n",
       " 2019   28.28  -6.11 -10.34   2.15\n",
       " 2020   23.66  13.18 -46.56   0.45\n",
       " 2021   23.56  -3.89  25.53   0.04\n",
       " 2022  -21.60  -6.82  25.80   1.43,\n",
       " 'DESCR': 'F-F Research Data Factors\\n-------------------------\\n\\nThis file was created by CMPT_ME_BEME_RETS using the 202302 CRSP database. The 1-month TBill return is from Ibbotson and Associates, Inc. Copyright 2023 Kenneth R. French\\n\\n  0 : (518 rows x 4 cols)\\n  1 : Annual Factors: January-December (43 rows x 4 cols)'}"
      ]
     },
     "execution_count": 7,
     "metadata": {},
     "output_type": "execute_result"
    }
   ],
   "source": [
    "df"
   ]
  },
  {
   "cell_type": "markdown",
   "id": "d5770d6f",
   "metadata": {},
   "source": [
    "Nous allons prendre la dataframe du rendemant pour avoir le rendement mensuelle des 3 facteurs"
   ]
  },
  {
   "cell_type": "code",
   "execution_count": 8,
   "id": "9ae233ff",
   "metadata": {},
   "outputs": [],
   "source": [
    "df1 = df[0]"
   ]
  },
  {
   "cell_type": "markdown",
   "id": "04b98f58",
   "metadata": {},
   "source": [
    "Nous allons mettre notre dataframe sous forme de graphique pour évaluer la tendance en utilisant le module pyplot de matplotlib."
   ]
  },
  {
   "cell_type": "code",
   "execution_count": 9,
   "id": "17e5a78a",
   "metadata": {},
   "outputs": [
    {
     "data": {
      "text/plain": [
       "array([<Axes: xlabel='Date'>, <Axes: xlabel='Date'>,\n",
       "       <Axes: xlabel='Date'>, <Axes: xlabel='Date'>], dtype=object)"
      ]
     },
     "execution_count": 9,
     "metadata": {},
     "output_type": "execute_result"
    },
    {
     "data": {
      "image/png": "[encoded data removed]",
      "text/plain": [
       "<Figure size 1200x400 with 4 Axes>"
      ]
     },
     "metadata": {},
     "output_type": "display_data"
    }
   ],
   "source": [
    "df1.plot(subplots=True, figsize=(12,4))"
   ]
  },
  {
   "cell_type": "markdown",
   "id": "337b509b",
   "metadata": {},
   "source": [
    "Nous allons lisser les données pour rendre le graphique plus simple à lire et à comprendre. On pourra ensuite avoir un meilleur visuel sur les facteurs dynamiques."
   ]
  },
  {
   "cell_type": "code",
   "execution_count": 10,
   "id": "b8409c2f",
   "metadata": {},
   "outputs": [
    {
     "data": {
      "text/plain": [
       "array([<Axes: xlabel='Date'>, <Axes: xlabel='Date'>,\n",
       "       <Axes: xlabel='Date'>, <Axes: xlabel='Date'>], dtype=object)"
      ]
     },
     "execution_count": 10,
     "metadata": {},
     "output_type": "execute_result"
    },
    {
     "data": {
      "image/png": "[encoded data removed]",
      "text/plain": [
       "<Figure size 1200x400 with 4 Axes>"
      ]
     },
     "metadata": {},
     "output_type": "display_data"
    }
   ],
   "source": [
    "df1.rolling(72).mean().plot(subplots=True, figsize=(12,4))"
   ]
  },
  {
   "cell_type": "markdown",
   "id": "b970d174",
   "metadata": {},
   "source": [
    "On peut voir que le rendement de marché au-dessus du taux sans risque (MKT-RF) et le facteur de taille (SMB) ont une évolution contraire de 1999 à 2010. \n",
    "Nous allons ajouter à ça le facteur de mouvement."
   ]
  },
  {
   "cell_type": "code",
   "execution_count": 11,
   "id": "7a285886",
   "metadata": {},
   "outputs": [],
   "source": [
    "df2 = pandas_datareader.famafrench.FamaFrenchReader('F-F_Momentum_Factor',freq='M',start=start).read()[0]"
   ]
  },
  {
   "cell_type": "code",
   "execution_count": 12,
   "id": "48fc15ad",
   "metadata": {},
   "outputs": [
    {
     "data": {
      "text/plain": [
       "array([<Axes: xlabel='Date'>], dtype=object)"
      ]
     },
     "execution_count": 12,
     "metadata": {},
     "output_type": "execute_result"
    },
    {
     "data": {
      "image/png": "[encoded data removed]",
      "text/plain": [
       "<Figure size 1200x400 with 1 Axes>"
      ]
     },
     "metadata": {},
     "output_type": "display_data"
    }
   ],
   "source": [
    "df2.rolling(72).mean().plot(subplots=True, figsize=(12,4))"
   ]
  },
  {
   "cell_type": "markdown",
   "id": "b613391e",
   "metadata": {},
   "source": [
    "## Fusion des dataframes"
   ]
  },
  {
   "cell_type": "markdown",
   "id": "7082e6a0",
   "metadata": {},
   "source": [
    "On a une seule série car nous avons seulement un facteur.\n",
    "Or nous voulons combiner notre df1 et notre df2 pour pour avoir une df3 qui possède les 4 facteurs de risques en une seule dataframe. Nous allons utiliser pandas pour les fusionner."
   ]
  },
  {
   "cell_type": "code",
   "execution_count": 13,
   "id": "0a48c310",
   "metadata": {},
   "outputs": [
    {
     "data": {
      "text/html": [
       "<div>\n",
       "<style scoped>\n",
       "    .dataframe tbody tr th:only-of-type {\n",
       "        vertical-align: middle;\n",
       "    }\n",
       "\n",
       "    .dataframe tbody tr th {\n",
       "        vertical-align: top;\n",
       "    }\n",
       "\n",
       "    .dataframe thead th {\n",
       "        text-align: right;\n",
       "    }\n",
       "</style>\n",
       "<table border=\"1\" class=\"dataframe\">\n",
       "  <thead>\n",
       "    <tr style=\"text-align: right;\">\n",
       "      <th></th>\n",
       "      <th>Mkt-RF</th>\n",
       "      <th>SMB</th>\n",
       "      <th>HML</th>\n",
       "      <th>RF</th>\n",
       "    </tr>\n",
       "    <tr>\n",
       "      <th>Date</th>\n",
       "      <th></th>\n",
       "      <th></th>\n",
       "      <th></th>\n",
       "      <th></th>\n",
       "    </tr>\n",
       "  </thead>\n",
       "  <tbody>\n",
       "    <tr>\n",
       "      <th>1980-01</th>\n",
       "      <td>5.51</td>\n",
       "      <td>1.62</td>\n",
       "      <td>1.75</td>\n",
       "      <td>0.80</td>\n",
       "    </tr>\n",
       "    <tr>\n",
       "      <th>1980-02</th>\n",
       "      <td>-1.22</td>\n",
       "      <td>-1.85</td>\n",
       "      <td>0.61</td>\n",
       "      <td>0.89</td>\n",
       "    </tr>\n",
       "    <tr>\n",
       "      <th>1980-03</th>\n",
       "      <td>-12.90</td>\n",
       "      <td>-6.64</td>\n",
       "      <td>-1.01</td>\n",
       "      <td>1.21</td>\n",
       "    </tr>\n",
       "    <tr>\n",
       "      <th>1980-04</th>\n",
       "      <td>3.97</td>\n",
       "      <td>1.05</td>\n",
       "      <td>1.06</td>\n",
       "      <td>1.26</td>\n",
       "    </tr>\n",
       "    <tr>\n",
       "      <th>1980-05</th>\n",
       "      <td>5.26</td>\n",
       "      <td>2.13</td>\n",
       "      <td>0.38</td>\n",
       "      <td>0.81</td>\n",
       "    </tr>\n",
       "    <tr>\n",
       "      <th>...</th>\n",
       "      <td>...</td>\n",
       "      <td>...</td>\n",
       "      <td>...</td>\n",
       "      <td>...</td>\n",
       "    </tr>\n",
       "    <tr>\n",
       "      <th>2022-10</th>\n",
       "      <td>7.83</td>\n",
       "      <td>0.09</td>\n",
       "      <td>8.05</td>\n",
       "      <td>0.23</td>\n",
       "    </tr>\n",
       "    <tr>\n",
       "      <th>2022-11</th>\n",
       "      <td>4.60</td>\n",
       "      <td>-3.40</td>\n",
       "      <td>1.38</td>\n",
       "      <td>0.29</td>\n",
       "    </tr>\n",
       "    <tr>\n",
       "      <th>2022-12</th>\n",
       "      <td>-6.41</td>\n",
       "      <td>-0.68</td>\n",
       "      <td>1.32</td>\n",
       "      <td>0.33</td>\n",
       "    </tr>\n",
       "    <tr>\n",
       "      <th>2023-01</th>\n",
       "      <td>6.65</td>\n",
       "      <td>5.02</td>\n",
       "      <td>-4.05</td>\n",
       "      <td>0.35</td>\n",
       "    </tr>\n",
       "    <tr>\n",
       "      <th>2023-02</th>\n",
       "      <td>-2.58</td>\n",
       "      <td>1.10</td>\n",
       "      <td>-0.80</td>\n",
       "      <td>0.34</td>\n",
       "    </tr>\n",
       "  </tbody>\n",
       "</table>\n",
       "<p>518 rows × 4 columns</p>\n",
       "</div>"
      ],
      "text/plain": [
       "         Mkt-RF   SMB   HML    RF\n",
       "Date                             \n",
       "1980-01    5.51  1.62  1.75  0.80\n",
       "1980-02   -1.22 -1.85  0.61  0.89\n",
       "1980-03  -12.90 -6.64 -1.01  1.21\n",
       "1980-04    3.97  1.05  1.06  1.26\n",
       "1980-05    5.26  2.13  0.38  0.81\n",
       "...         ...   ...   ...   ...\n",
       "2022-10    7.83  0.09  8.05  0.23\n",
       "2022-11    4.60 -3.40  1.38  0.29\n",
       "2022-12   -6.41 -0.68  1.32  0.33\n",
       "2023-01    6.65  5.02 -4.05  0.35\n",
       "2023-02   -2.58  1.10 -0.80  0.34\n",
       "\n",
       "[518 rows x 4 columns]"
      ]
     },
     "execution_count": 13,
     "metadata": {},
     "output_type": "execute_result"
    }
   ],
   "source": [
    "df1"
   ]
  },
  {
   "cell_type": "code",
   "execution_count": 14,
   "id": "0f1c8108",
   "metadata": {},
   "outputs": [
    {
     "data": {
      "text/html": [
       "<div>\n",
       "<style scoped>\n",
       "    .dataframe tbody tr th:only-of-type {\n",
       "        vertical-align: middle;\n",
       "    }\n",
       "\n",
       "    .dataframe tbody tr th {\n",
       "        vertical-align: top;\n",
       "    }\n",
       "\n",
       "    .dataframe thead th {\n",
       "        text-align: right;\n",
       "    }\n",
       "</style>\n",
       "<table border=\"1\" class=\"dataframe\">\n",
       "  <thead>\n",
       "    <tr style=\"text-align: right;\">\n",
       "      <th></th>\n",
       "      <th>Mom</th>\n",
       "    </tr>\n",
       "    <tr>\n",
       "      <th>Date</th>\n",
       "      <th></th>\n",
       "    </tr>\n",
       "  </thead>\n",
       "  <tbody>\n",
       "    <tr>\n",
       "      <th>1980-01</th>\n",
       "      <td>7.55</td>\n",
       "    </tr>\n",
       "    <tr>\n",
       "      <th>1980-02</th>\n",
       "      <td>7.88</td>\n",
       "    </tr>\n",
       "    <tr>\n",
       "      <th>1980-03</th>\n",
       "      <td>-9.55</td>\n",
       "    </tr>\n",
       "    <tr>\n",
       "      <th>1980-04</th>\n",
       "      <td>-0.43</td>\n",
       "    </tr>\n",
       "    <tr>\n",
       "      <th>1980-05</th>\n",
       "      <td>-1.12</td>\n",
       "    </tr>\n",
       "    <tr>\n",
       "      <th>...</th>\n",
       "      <td>...</td>\n",
       "    </tr>\n",
       "    <tr>\n",
       "      <th>2022-10</th>\n",
       "      <td>3.87</td>\n",
       "    </tr>\n",
       "    <tr>\n",
       "      <th>2022-11</th>\n",
       "      <td>-2.01</td>\n",
       "    </tr>\n",
       "    <tr>\n",
       "      <th>2022-12</th>\n",
       "      <td>4.52</td>\n",
       "    </tr>\n",
       "    <tr>\n",
       "      <th>2023-01</th>\n",
       "      <td>-15.96</td>\n",
       "    </tr>\n",
       "    <tr>\n",
       "      <th>2023-02</th>\n",
       "      <td>0.06</td>\n",
       "    </tr>\n",
       "  </tbody>\n",
       "</table>\n",
       "<p>518 rows × 1 columns</p>\n",
       "</div>"
      ],
      "text/plain": [
       "         Mom   \n",
       "Date           \n",
       "1980-01    7.55\n",
       "1980-02    7.88\n",
       "1980-03   -9.55\n",
       "1980-04   -0.43\n",
       "1980-05   -1.12\n",
       "...         ...\n",
       "2022-10    3.87\n",
       "2022-11   -2.01\n",
       "2022-12    4.52\n",
       "2023-01  -15.96\n",
       "2023-02    0.06\n",
       "\n",
       "[518 rows x 1 columns]"
      ]
     },
     "execution_count": 14,
     "metadata": {},
     "output_type": "execute_result"
    }
   ],
   "source": [
    "df2"
   ]
  },
  {
   "cell_type": "markdown",
   "id": "a8b873d9",
   "metadata": {},
   "source": [
    "En analysant les deux dataframes, nous pouvons voir que la 'date' est un bon connecteur entre df1 et df2 ce qui permettra de fusionner les deux avec pd.merge(). "
   ]
  },
  {
   "cell_type": "code",
   "execution_count": 15,
   "id": "ecadf9ea",
   "metadata": {},
   "outputs": [],
   "source": [
    "df_fusion = pd.merge(df1, df2, on='Date', how='inner', sort=True, copy=True, indicator=False)"
   ]
  },
  {
   "cell_type": "code",
   "execution_count": 16,
   "id": "a8a2215b",
   "metadata": {},
   "outputs": [
    {
     "data": {
      "text/html": [
       "<div>\n",
       "<style scoped>\n",
       "    .dataframe tbody tr th:only-of-type {\n",
       "        vertical-align: middle;\n",
       "    }\n",
       "\n",
       "    .dataframe tbody tr th {\n",
       "        vertical-align: top;\n",
       "    }\n",
       "\n",
       "    .dataframe thead th {\n",
       "        text-align: right;\n",
       "    }\n",
       "</style>\n",
       "<table border=\"1\" class=\"dataframe\">\n",
       "  <thead>\n",
       "    <tr style=\"text-align: right;\">\n",
       "      <th></th>\n",
       "      <th>Mkt-RF</th>\n",
       "      <th>SMB</th>\n",
       "      <th>HML</th>\n",
       "      <th>RF</th>\n",
       "      <th>Mom</th>\n",
       "    </tr>\n",
       "    <tr>\n",
       "      <th>Date</th>\n",
       "      <th></th>\n",
       "      <th></th>\n",
       "      <th></th>\n",
       "      <th></th>\n",
       "      <th></th>\n",
       "    </tr>\n",
       "  </thead>\n",
       "  <tbody>\n",
       "    <tr>\n",
       "      <th>1980-01</th>\n",
       "      <td>5.51</td>\n",
       "      <td>1.62</td>\n",
       "      <td>1.75</td>\n",
       "      <td>0.80</td>\n",
       "      <td>7.55</td>\n",
       "    </tr>\n",
       "    <tr>\n",
       "      <th>1980-02</th>\n",
       "      <td>-1.22</td>\n",
       "      <td>-1.85</td>\n",
       "      <td>0.61</td>\n",
       "      <td>0.89</td>\n",
       "      <td>7.88</td>\n",
       "    </tr>\n",
       "    <tr>\n",
       "      <th>1980-03</th>\n",
       "      <td>-12.90</td>\n",
       "      <td>-6.64</td>\n",
       "      <td>-1.01</td>\n",
       "      <td>1.21</td>\n",
       "      <td>-9.55</td>\n",
       "    </tr>\n",
       "    <tr>\n",
       "      <th>1980-04</th>\n",
       "      <td>3.97</td>\n",
       "      <td>1.05</td>\n",
       "      <td>1.06</td>\n",
       "      <td>1.26</td>\n",
       "      <td>-0.43</td>\n",
       "    </tr>\n",
       "    <tr>\n",
       "      <th>1980-05</th>\n",
       "      <td>5.26</td>\n",
       "      <td>2.13</td>\n",
       "      <td>0.38</td>\n",
       "      <td>0.81</td>\n",
       "      <td>-1.12</td>\n",
       "    </tr>\n",
       "    <tr>\n",
       "      <th>...</th>\n",
       "      <td>...</td>\n",
       "      <td>...</td>\n",
       "      <td>...</td>\n",
       "      <td>...</td>\n",
       "      <td>...</td>\n",
       "    </tr>\n",
       "    <tr>\n",
       "      <th>2022-10</th>\n",
       "      <td>7.83</td>\n",
       "      <td>0.09</td>\n",
       "      <td>8.05</td>\n",
       "      <td>0.23</td>\n",
       "      <td>3.87</td>\n",
       "    </tr>\n",
       "    <tr>\n",
       "      <th>2022-11</th>\n",
       "      <td>4.60</td>\n",
       "      <td>-3.40</td>\n",
       "      <td>1.38</td>\n",
       "      <td>0.29</td>\n",
       "      <td>-2.01</td>\n",
       "    </tr>\n",
       "    <tr>\n",
       "      <th>2022-12</th>\n",
       "      <td>-6.41</td>\n",
       "      <td>-0.68</td>\n",
       "      <td>1.32</td>\n",
       "      <td>0.33</td>\n",
       "      <td>4.52</td>\n",
       "    </tr>\n",
       "    <tr>\n",
       "      <th>2023-01</th>\n",
       "      <td>6.65</td>\n",
       "      <td>5.02</td>\n",
       "      <td>-4.05</td>\n",
       "      <td>0.35</td>\n",
       "      <td>-15.96</td>\n",
       "    </tr>\n",
       "    <tr>\n",
       "      <th>2023-02</th>\n",
       "      <td>-2.58</td>\n",
       "      <td>1.10</td>\n",
       "      <td>-0.80</td>\n",
       "      <td>0.34</td>\n",
       "      <td>0.06</td>\n",
       "    </tr>\n",
       "  </tbody>\n",
       "</table>\n",
       "<p>518 rows × 5 columns</p>\n",
       "</div>"
      ],
      "text/plain": [
       "         Mkt-RF   SMB   HML    RF  Mom   \n",
       "Date                                     \n",
       "1980-01    5.51  1.62  1.75  0.80    7.55\n",
       "1980-02   -1.22 -1.85  0.61  0.89    7.88\n",
       "1980-03  -12.90 -6.64 -1.01  1.21   -9.55\n",
       "1980-04    3.97  1.05  1.06  1.26   -0.43\n",
       "1980-05    5.26  2.13  0.38  0.81   -1.12\n",
       "...         ...   ...   ...   ...     ...\n",
       "2022-10    7.83  0.09  8.05  0.23    3.87\n",
       "2022-11    4.60 -3.40  1.38  0.29   -2.01\n",
       "2022-12   -6.41 -0.68  1.32  0.33    4.52\n",
       "2023-01    6.65  5.02 -4.05  0.35  -15.96\n",
       "2023-02   -2.58  1.10 -0.80  0.34    0.06\n",
       "\n",
       "[518 rows x 5 columns]"
      ]
     },
     "execution_count": 16,
     "metadata": {},
     "output_type": "execute_result"
    }
   ],
   "source": [
    "df_fusion"
   ]
  },
  {
   "cell_type": "markdown",
   "id": "ee11e64e",
   "metadata": {},
   "source": [
    "Nous pouvons voir que la fusion a fonctionné : nous avons alors nos 3 facteurs de risques et le taux sans risque Rf. "
   ]
  },
  {
   "cell_type": "markdown",
   "id": "1bfef649",
   "metadata": {},
   "source": [
    "## Cas Nestlé : obtention des données d'un actif risqué pour le modèle famafrench\n",
    "\n",
    "#### Nous allons maintenant voir comment obtenir les données de l'actif risqué que nous voulons régresser sur ces facteurs de risque.\n",
    "\n",
    "Nous allons prendre une entreprise comme exemple, qui nous servira d'actif risqué. Nous choisirons l'entreprise Nestlé, et nous utiliserons yahoo finance pour obtenir les données de la société."
   ]
  },
  {
   "cell_type": "code",
   "execution_count": 17,
   "id": "88b329e9",
   "metadata": {},
   "outputs": [
    {
     "name": "stdout",
     "output_type": "stream",
     "text": [
      "[*********************100%***********************]  1 of 1 completed\n"
     ]
    }
   ],
   "source": [
    "#téléchargement des données de nestlé avec yahoo finance\n",
    "\n",
    "NESTLE_data = yf.download('NESN.SW', start=start)['Adj Close'].resample('M').ffill().pct_change()"
   ]
  },
  {
   "cell_type": "markdown",
   "id": "d67f5031",
   "metadata": {},
   "source": [
    "Nous avons pris les données de Nestlé à partir de la date de début qu'on a choisis au début. Par la suite nous choisissons de prendre le prix de clôture ajusté (par rapport à la distribution de dividendes), et de voir les données mensuelles."
   ]
  },
  {
   "cell_type": "code",
   "execution_count": 18,
   "id": "35b70c6c",
   "metadata": {},
   "outputs": [
    {
     "data": {
      "text/plain": [
       "Date\n",
       "1990-02-28         NaN\n",
       "1990-03-31   -0.005313\n",
       "1990-04-30    0.005935\n",
       "1990-05-31   -0.002950\n",
       "1990-06-30    0.044379\n",
       "                ...   \n",
       "2022-12-31   -0.046288\n",
       "2023-01-31    0.040508\n",
       "2023-02-28   -0.048439\n",
       "2023-03-31    0.050716\n",
       "2023-04-30    0.020276\n",
       "Freq: M, Name: Adj Close, Length: 399, dtype: float64"
      ]
     },
     "execution_count": 18,
     "metadata": {},
     "output_type": "execute_result"
    }
   ],
   "source": [
    "NESTLE_data"
   ]
  },
  {
   "cell_type": "markdown",
   "id": "8a4d5dfb",
   "metadata": {},
   "source": [
    "Nous mettons nos données dans une dataframe :"
   ]
  },
  {
   "cell_type": "code",
   "execution_count": 19,
   "id": "56ac3b99",
   "metadata": {},
   "outputs": [],
   "source": [
    "NESTLE_df = NESTLE_data.to_frame()"
   ]
  },
  {
   "cell_type": "code",
   "execution_count": 20,
   "id": "8974bc6e",
   "metadata": {},
   "outputs": [
    {
     "data": {
      "text/html": [
       "<div>\n",
       "<style scoped>\n",
       "    .dataframe tbody tr th:only-of-type {\n",
       "        vertical-align: middle;\n",
       "    }\n",
       "\n",
       "    .dataframe tbody tr th {\n",
       "        vertical-align: top;\n",
       "    }\n",
       "\n",
       "    .dataframe thead th {\n",
       "        text-align: right;\n",
       "    }\n",
       "</style>\n",
       "<table border=\"1\" class=\"dataframe\">\n",
       "  <thead>\n",
       "    <tr style=\"text-align: right;\">\n",
       "      <th></th>\n",
       "      <th>Adj Close</th>\n",
       "    </tr>\n",
       "    <tr>\n",
       "      <th>Date</th>\n",
       "      <th></th>\n",
       "    </tr>\n",
       "  </thead>\n",
       "  <tbody>\n",
       "    <tr>\n",
       "      <th>1990-02-28</th>\n",
       "      <td>NaN</td>\n",
       "    </tr>\n",
       "    <tr>\n",
       "      <th>1990-03-31</th>\n",
       "      <td>-0.005313</td>\n",
       "    </tr>\n",
       "    <tr>\n",
       "      <th>1990-04-30</th>\n",
       "      <td>0.005935</td>\n",
       "    </tr>\n",
       "    <tr>\n",
       "      <th>1990-05-31</th>\n",
       "      <td>-0.002950</td>\n",
       "    </tr>\n",
       "    <tr>\n",
       "      <th>1990-06-30</th>\n",
       "      <td>0.044379</td>\n",
       "    </tr>\n",
       "    <tr>\n",
       "      <th>...</th>\n",
       "      <td>...</td>\n",
       "    </tr>\n",
       "    <tr>\n",
       "      <th>2022-12-31</th>\n",
       "      <td>-0.046288</td>\n",
       "    </tr>\n",
       "    <tr>\n",
       "      <th>2023-01-31</th>\n",
       "      <td>0.040508</td>\n",
       "    </tr>\n",
       "    <tr>\n",
       "      <th>2023-02-28</th>\n",
       "      <td>-0.048439</td>\n",
       "    </tr>\n",
       "    <tr>\n",
       "      <th>2023-03-31</th>\n",
       "      <td>0.050716</td>\n",
       "    </tr>\n",
       "    <tr>\n",
       "      <th>2023-04-30</th>\n",
       "      <td>0.020276</td>\n",
       "    </tr>\n",
       "  </tbody>\n",
       "</table>\n",
       "<p>399 rows × 1 columns</p>\n",
       "</div>"
      ],
      "text/plain": [
       "            Adj Close\n",
       "Date                 \n",
       "1990-02-28        NaN\n",
       "1990-03-31  -0.005313\n",
       "1990-04-30   0.005935\n",
       "1990-05-31  -0.002950\n",
       "1990-06-30   0.044379\n",
       "...               ...\n",
       "2022-12-31  -0.046288\n",
       "2023-01-31   0.040508\n",
       "2023-02-28  -0.048439\n",
       "2023-03-31   0.050716\n",
       "2023-04-30   0.020276\n",
       "\n",
       "[399 rows x 1 columns]"
      ]
     },
     "execution_count": 20,
     "metadata": {},
     "output_type": "execute_result"
    }
   ],
   "source": [
    "NESTLE_df"
   ]
  },
  {
   "cell_type": "markdown",
   "id": "8671c082",
   "metadata": {},
   "source": [
    "## Fusion de nos dataframes (celle de Nestlé et notre ancienne dataframe fusionnée)\n",
    "\n",
    "Nous voulons maintenant fusionner nos deux dataframe (NESTLE_df et df_fusion) pour rendre l'analyse plus simple et lisible. Dans un premier nous devons vérifier leur type car si elles ont un type différent, alors on ne pourra pas les fusionner directement."
   ]
  },
  {
   "cell_type": "code",
   "execution_count": 21,
   "id": "a162f7d0",
   "metadata": {},
   "outputs": [
    {
     "data": {
      "text/plain": [
       "dtype('<M8[ns]')"
      ]
     },
     "execution_count": 21,
     "metadata": {},
     "output_type": "execute_result"
    }
   ],
   "source": [
    "NESTLE_df.index.dtype #timestamp"
   ]
  },
  {
   "cell_type": "code",
   "execution_count": 22,
   "id": "1532ace0",
   "metadata": {},
   "outputs": [
    {
     "data": {
      "text/plain": [
       "period[M]"
      ]
     },
     "execution_count": 22,
     "metadata": {},
     "output_type": "execute_result"
    }
   ],
   "source": [
    "df_fusion.index.dtype #période"
   ]
  },
  {
   "cell_type": "markdown",
   "id": "cfe3e69a",
   "metadata": {},
   "source": [
    "Nous devons alors changer les index des deux données, et les ré-indexer pour leur donner un indexe qui est mutuellement comparable."
   ]
  },
  {
   "cell_type": "code",
   "execution_count": 23,
   "id": "39abdc2b",
   "metadata": {},
   "outputs": [],
   "source": [
    "# création d'une valeure intermédiaire\n",
    "NESTLE_df['str_date'] = NESTLE_df.index.astype(str)\n",
    "NESTLE_df['dt_date'] = pd.to_datetime(NESTLE_df['str_date']).dt.strftime('%Y-%m') \n",
    "# création d'une nouvelle colonne qui sera une version 'date' du string : on aura une date composée seulement de l'année et du mois"
   ]
  },
  {
   "cell_type": "code",
   "execution_count": 24,
   "id": "6dfbe51d",
   "metadata": {},
   "outputs": [],
   "source": [
    "# On fait la même chose pour notre autre dataframe pour que les deux aient un format similaire\n",
    "df_fusion['str_date'] = df_fusion.index.astype(str)\n",
    "df_fusion['dt_date'] = pd.to_datetime(df_fusion['str_date']).dt.strftime('%Y-%m') "
   ]
  },
  {
   "cell_type": "markdown",
   "id": "a6ed1c72",
   "metadata": {},
   "source": [
    "Nous allons maintenant vérifier que les deux dataframes ont le même type pour pouvoir effectuer la fusion. "
   ]
  },
  {
   "cell_type": "code",
   "execution_count": 25,
   "id": "097eb442",
   "metadata": {},
   "outputs": [
    {
     "data": {
      "text/plain": [
       "dtype('O')"
      ]
     },
     "execution_count": 25,
     "metadata": {},
     "output_type": "execute_result"
    }
   ],
   "source": [
    "NESTLE_df.dt_date.dtype"
   ]
  },
  {
   "cell_type": "code",
   "execution_count": 26,
   "id": "dff68165",
   "metadata": {},
   "outputs": [
    {
     "data": {
      "text/plain": [
       "dtype('O')"
      ]
     },
     "execution_count": 26,
     "metadata": {},
     "output_type": "execute_result"
    }
   ],
   "source": [
    "df_fusion.dt_date.dtype"
   ]
  },
  {
   "cell_type": "markdown",
   "id": "49b5d0cf",
   "metadata": {},
   "source": [
    "Nous allons maintenant effectuer la fusion :"
   ]
  },
  {
   "cell_type": "code",
   "execution_count": 27,
   "id": "14a1193f",
   "metadata": {},
   "outputs": [],
   "source": [
    "NESTLE_df_fusion = pd.merge(NESTLE_df,df_fusion, how='inner', on='dt_date', sort=True, copy=True, indicator=False)"
   ]
  },
  {
   "cell_type": "code",
   "execution_count": 28,
   "id": "5d831821",
   "metadata": {
    "scrolled": true
   },
   "outputs": [
    {
     "data": {
      "text/html": [
       "<div>\n",
       "<style scoped>\n",
       "    .dataframe tbody tr th:only-of-type {\n",
       "        vertical-align: middle;\n",
       "    }\n",
       "\n",
       "    .dataframe tbody tr th {\n",
       "        vertical-align: top;\n",
       "    }\n",
       "\n",
       "    .dataframe thead th {\n",
       "        text-align: right;\n",
       "    }\n",
       "</style>\n",
       "<table border=\"1\" class=\"dataframe\">\n",
       "  <thead>\n",
       "    <tr style=\"text-align: right;\">\n",
       "      <th></th>\n",
       "      <th>Adj Close</th>\n",
       "      <th>str_date_x</th>\n",
       "      <th>dt_date</th>\n",
       "      <th>Mkt-RF</th>\n",
       "      <th>SMB</th>\n",
       "      <th>HML</th>\n",
       "      <th>RF</th>\n",
       "      <th>Mom</th>\n",
       "      <th>str_date_y</th>\n",
       "    </tr>\n",
       "  </thead>\n",
       "  <tbody>\n",
       "    <tr>\n",
       "      <th>0</th>\n",
       "      <td>NaN</td>\n",
       "      <td>1990-02-28</td>\n",
       "      <td>1990-02</td>\n",
       "      <td>1.11</td>\n",
       "      <td>0.99</td>\n",
       "      <td>0.64</td>\n",
       "      <td>0.57</td>\n",
       "      <td>-0.55</td>\n",
       "      <td>1990-02</td>\n",
       "    </tr>\n",
       "    <tr>\n",
       "      <th>1</th>\n",
       "      <td>-0.005313</td>\n",
       "      <td>1990-03-31</td>\n",
       "      <td>1990-03</td>\n",
       "      <td>1.83</td>\n",
       "      <td>1.50</td>\n",
       "      <td>-2.92</td>\n",
       "      <td>0.64</td>\n",
       "      <td>1.80</td>\n",
       "      <td>1990-03</td>\n",
       "    </tr>\n",
       "    <tr>\n",
       "      <th>2</th>\n",
       "      <td>0.005935</td>\n",
       "      <td>1990-04-30</td>\n",
       "      <td>1990-04</td>\n",
       "      <td>-3.36</td>\n",
       "      <td>-0.46</td>\n",
       "      <td>-2.59</td>\n",
       "      <td>0.69</td>\n",
       "      <td>2.39</td>\n",
       "      <td>1990-04</td>\n",
       "    </tr>\n",
       "    <tr>\n",
       "      <th>3</th>\n",
       "      <td>-0.002950</td>\n",
       "      <td>1990-05-31</td>\n",
       "      <td>1990-05</td>\n",
       "      <td>8.42</td>\n",
       "      <td>-2.53</td>\n",
       "      <td>-3.83</td>\n",
       "      <td>0.68</td>\n",
       "      <td>3.03</td>\n",
       "      <td>1990-05</td>\n",
       "    </tr>\n",
       "    <tr>\n",
       "      <th>4</th>\n",
       "      <td>0.044379</td>\n",
       "      <td>1990-06-30</td>\n",
       "      <td>1990-06</td>\n",
       "      <td>-1.09</td>\n",
       "      <td>1.40</td>\n",
       "      <td>-1.93</td>\n",
       "      <td>0.63</td>\n",
       "      <td>2.40</td>\n",
       "      <td>1990-06</td>\n",
       "    </tr>\n",
       "    <tr>\n",
       "      <th>...</th>\n",
       "      <td>...</td>\n",
       "      <td>...</td>\n",
       "      <td>...</td>\n",
       "      <td>...</td>\n",
       "      <td>...</td>\n",
       "      <td>...</td>\n",
       "      <td>...</td>\n",
       "      <td>...</td>\n",
       "      <td>...</td>\n",
       "    </tr>\n",
       "    <tr>\n",
       "      <th>392</th>\n",
       "      <td>0.018304</td>\n",
       "      <td>2022-10-31</td>\n",
       "      <td>2022-10</td>\n",
       "      <td>7.83</td>\n",
       "      <td>0.09</td>\n",
       "      <td>8.05</td>\n",
       "      <td>0.23</td>\n",
       "      <td>3.87</td>\n",
       "      <td>2022-10</td>\n",
       "    </tr>\n",
       "    <tr>\n",
       "      <th>393</th>\n",
       "      <td>0.030264</td>\n",
       "      <td>2022-11-30</td>\n",
       "      <td>2022-11</td>\n",
       "      <td>4.60</td>\n",
       "      <td>-3.40</td>\n",
       "      <td>1.38</td>\n",
       "      <td>0.29</td>\n",
       "      <td>-2.01</td>\n",
       "      <td>2022-11</td>\n",
       "    </tr>\n",
       "    <tr>\n",
       "      <th>394</th>\n",
       "      <td>-0.046288</td>\n",
       "      <td>2022-12-31</td>\n",
       "      <td>2022-12</td>\n",
       "      <td>-6.41</td>\n",
       "      <td>-0.68</td>\n",
       "      <td>1.32</td>\n",
       "      <td>0.33</td>\n",
       "      <td>4.52</td>\n",
       "      <td>2022-12</td>\n",
       "    </tr>\n",
       "    <tr>\n",
       "      <th>395</th>\n",
       "      <td>0.040508</td>\n",
       "      <td>2023-01-31</td>\n",
       "      <td>2023-01</td>\n",
       "      <td>6.65</td>\n",
       "      <td>5.02</td>\n",
       "      <td>-4.05</td>\n",
       "      <td>0.35</td>\n",
       "      <td>-15.96</td>\n",
       "      <td>2023-01</td>\n",
       "    </tr>\n",
       "    <tr>\n",
       "      <th>396</th>\n",
       "      <td>-0.048439</td>\n",
       "      <td>2023-02-28</td>\n",
       "      <td>2023-02</td>\n",
       "      <td>-2.58</td>\n",
       "      <td>1.10</td>\n",
       "      <td>-0.80</td>\n",
       "      <td>0.34</td>\n",
       "      <td>0.06</td>\n",
       "      <td>2023-02</td>\n",
       "    </tr>\n",
       "  </tbody>\n",
       "</table>\n",
       "<p>397 rows × 9 columns</p>\n",
       "</div>"
      ],
      "text/plain": [
       "     Adj Close  str_date_x  dt_date  Mkt-RF   SMB   HML    RF  Mom     \\\n",
       "0          NaN  1990-02-28  1990-02    1.11  0.99  0.64  0.57   -0.55   \n",
       "1    -0.005313  1990-03-31  1990-03    1.83  1.50 -2.92  0.64    1.80   \n",
       "2     0.005935  1990-04-30  1990-04   -3.36 -0.46 -2.59  0.69    2.39   \n",
       "3    -0.002950  1990-05-31  1990-05    8.42 -2.53 -3.83  0.68    3.03   \n",
       "4     0.044379  1990-06-30  1990-06   -1.09  1.40 -1.93  0.63    2.40   \n",
       "..         ...         ...      ...     ...   ...   ...   ...     ...   \n",
       "392   0.018304  2022-10-31  2022-10    7.83  0.09  8.05  0.23    3.87   \n",
       "393   0.030264  2022-11-30  2022-11    4.60 -3.40  1.38  0.29   -2.01   \n",
       "394  -0.046288  2022-12-31  2022-12   -6.41 -0.68  1.32  0.33    4.52   \n",
       "395   0.040508  2023-01-31  2023-01    6.65  5.02 -4.05  0.35  -15.96   \n",
       "396  -0.048439  2023-02-28  2023-02   -2.58  1.10 -0.80  0.34    0.06   \n",
       "\n",
       "    str_date_y  \n",
       "0      1990-02  \n",
       "1      1990-03  \n",
       "2      1990-04  \n",
       "3      1990-05  \n",
       "4      1990-06  \n",
       "..         ...  \n",
       "392    2022-10  \n",
       "393    2022-11  \n",
       "394    2022-12  \n",
       "395    2023-01  \n",
       "396    2023-02  \n",
       "\n",
       "[397 rows x 9 columns]"
      ]
     },
     "execution_count": 28,
     "metadata": {},
     "output_type": "execute_result"
    }
   ],
   "source": [
    "NESTLE_df_fusion # dataframe actualisé avec les modifications en dessous (inplace=True)"
   ]
  },
  {
   "cell_type": "markdown",
   "id": "5fa175f0",
   "metadata": {},
   "source": [
    "## Nettoyage des données : cleaning \n",
    "\n",
    "Nous avons fusionné nos deux dataframe, nous allons maintenant nettoyer nos données : retirer les colonnes inutiles, renommer les titres si nécessaires et se supprimer les données vides.\n",
    "\n",
    "Les changements ci-dessous sont directement appliqué à notre dataframe grâce à \"inplace=True\"."
   ]
  },
  {
   "cell_type": "code",
   "execution_count": 29,
   "id": "dd017fee",
   "metadata": {},
   "outputs": [],
   "source": [
    "NESTLE_df_fusion.drop(columns=['str_date_x', 'str_date_y'], inplace=True)"
   ]
  },
  {
   "cell_type": "code",
   "execution_count": 30,
   "id": "41e89316",
   "metadata": {},
   "outputs": [],
   "source": [
    "NESTLE_df_fusion.rename(columns={'Adj Close' : 'NESTLE'}, inplace=True)"
   ]
  },
  {
   "cell_type": "code",
   "execution_count": 31,
   "id": "af1a1a89",
   "metadata": {},
   "outputs": [],
   "source": [
    "NESTLE_df_fusion.rename(columns={'Mom   ' : 'Mom'}, inplace=True)"
   ]
  },
  {
   "cell_type": "code",
   "execution_count": 32,
   "id": "ba905655",
   "metadata": {},
   "outputs": [],
   "source": [
    "# création d'une nouvelle colonne\n",
    "NESTLE_df_fusion['NESTLE_RF'] = NESTLE_df_fusion['NESTLE']*100-NESTLE_df_fusion['RF']"
   ]
  },
  {
   "cell_type": "code",
   "execution_count": 33,
   "id": "239aa24b",
   "metadata": {},
   "outputs": [],
   "source": [
    "#Suppression des lignes ayant des données manquantes\n",
    "NESTLE_df_fusion.dropna(axis=0, inplace=True)"
   ]
  },
  {
   "cell_type": "markdown",
   "id": "c93b032a",
   "metadata": {},
   "source": [
    "#### Nous possédons maintenant nos données qui ont été néttoyées et regroupées. Nous pouvons maintenant passer à la suite du projet."
   ]
  },
  {
   "cell_type": "markdown",
   "id": "478a9ed4",
   "metadata": {},
   "source": [
    "## Régréssion des rendements d'un actif risqué sur un model factoriel à multiples facteurs de risque\n",
    "\n",
    "Procéder à une régression linéaire du portefeuille d'action de Nestlé va nous permettre d'identifier les variables explicatives, de comprendre la relation entre les variables indépendantes et explicatives pour prévoir les valeurs inconnues."
   ]
  },
  {
   "cell_type": "markdown",
   "id": "6f5944b7",
   "metadata": {},
   "source": [
    "Nous allons utiliser la fonction 'OLS' pour construire un modèle linéaire en utilisant les valeurs x et y. Puis nous regarderons le résumé des résultats."
   ]
  },
  {
   "cell_type": "code",
   "execution_count": 34,
   "id": "283d69b2",
   "metadata": {},
   "outputs": [],
   "source": [
    "resultats = OLS(NESTLE_df_fusion['NESTLE_RF'], NESTLE_df_fusion[['Mkt-RF', 'SMB', 'HML', 'Mom']], missing='drop').fit()"
   ]
  },
  {
   "cell_type": "code",
   "execution_count": 35,
   "id": "c4f8278c",
   "metadata": {},
   "outputs": [
    {
     "data": {
      "text/html": [
       "<table class=\"simpletable\">\n",
       "<caption>OLS Regression Results</caption>\n",
       "<tr>\n",
       "  <th>Dep. Variable:</th>        <td>NESTLE_RF</td>    <th>  R-squared (uncentered):</th>      <td>   0.071</td>\n",
       "</tr>\n",
       "<tr>\n",
       "  <th>Model:</th>                   <td>OLS</td>       <th>  Adj. R-squared (uncentered):</th> <td>   0.061</td>\n",
       "</tr>\n",
       "<tr>\n",
       "  <th>Method:</th>             <td>Least Squares</td>  <th>  F-statistic:       </th>          <td>   7.449</td>\n",
       "</tr>\n",
       "<tr>\n",
       "  <th>Date:</th>             <td>Sun, 09 Apr 2023</td> <th>  Prob (F-statistic):</th>          <td>8.62e-06</td>\n",
       "</tr>\n",
       "<tr>\n",
       "  <th>Time:</th>                 <td>18:46:59</td>     <th>  Log-Likelihood:    </th>          <td> -1140.3</td>\n",
       "</tr>\n",
       "<tr>\n",
       "  <th>No. Observations:</th>      <td>   396</td>      <th>  AIC:               </th>          <td>   2289.</td>\n",
       "</tr>\n",
       "<tr>\n",
       "  <th>Df Residuals:</th>          <td>   392</td>      <th>  BIC:               </th>          <td>   2304.</td>\n",
       "</tr>\n",
       "<tr>\n",
       "  <th>Df Model:</th>              <td>     4</td>      <th>                     </th>              <td> </td>   \n",
       "</tr>\n",
       "<tr>\n",
       "  <th>Covariance Type:</th>      <td>nonrobust</td>    <th>                     </th>              <td> </td>   \n",
       "</tr>\n",
       "</table>\n",
       "<table class=\"simpletable\">\n",
       "<tr>\n",
       "     <td></td>       <th>coef</th>     <th>std err</th>      <th>t</th>      <th>P>|t|</th>  <th>[0.025</th>    <th>0.975]</th>  \n",
       "</tr>\n",
       "<tr>\n",
       "  <th>Mkt-RF</th> <td>    0.2835</td> <td>    0.052</td> <td>    5.416</td> <td> 0.000</td> <td>    0.181</td> <td>    0.386</td>\n",
       "</tr>\n",
       "<tr>\n",
       "  <th>SMB</th>    <td>   -0.0510</td> <td>    0.073</td> <td>   -0.702</td> <td> 0.483</td> <td>   -0.194</td> <td>    0.092</td>\n",
       "</tr>\n",
       "<tr>\n",
       "  <th>HML</th>    <td>    0.0820</td> <td>    0.071</td> <td>    1.162</td> <td> 0.246</td> <td>   -0.057</td> <td>    0.221</td>\n",
       "</tr>\n",
       "<tr>\n",
       "  <th>Mom</th>    <td>    0.0924</td> <td>    0.049</td> <td>    1.896</td> <td> 0.059</td> <td>   -0.003</td> <td>    0.188</td>\n",
       "</tr>\n",
       "</table>\n",
       "<table class=\"simpletable\">\n",
       "<tr>\n",
       "  <th>Omnibus:</th>       <td>173.157</td> <th>  Durbin-Watson:     </th> <td>   2.057</td>\n",
       "</tr>\n",
       "<tr>\n",
       "  <th>Prob(Omnibus):</th> <td> 0.000</td>  <th>  Jarque-Bera (JB):  </th> <td>2006.255</td>\n",
       "</tr>\n",
       "<tr>\n",
       "  <th>Skew:</th>          <td> 1.525</td>  <th>  Prob(JB):          </th> <td>    0.00</td>\n",
       "</tr>\n",
       "<tr>\n",
       "  <th>Kurtosis:</th>      <td>13.597</td>  <th>  Cond. No.          </th> <td>    1.92</td>\n",
       "</tr>\n",
       "</table><br/><br/>Notes:<br/>[1] R² is computed without centering (uncentered) since the model does not contain a constant.<br/>[2] Standard Errors assume that the covariance matrix of the errors is correctly specified."
      ],
      "text/plain": [
       "<class 'statsmodels.iolib.summary.Summary'>\n",
       "\"\"\"\n",
       "                                 OLS Regression Results                                \n",
       "=======================================================================================\n",
       "Dep. Variable:              NESTLE_RF   R-squared (uncentered):                   0.071\n",
       "Model:                            OLS   Adj. R-squared (uncentered):              0.061\n",
       "Method:                 Least Squares   F-statistic:                              7.449\n",
       "Date:                Sun, 09 Apr 2023   Prob (F-statistic):                    8.62e-06\n",
       "Time:                        18:46:59   Log-Likelihood:                         -1140.3\n",
       "No. Observations:                 396   AIC:                                      2289.\n",
       "Df Residuals:                     392   BIC:                                      2304.\n",
       "Df Model:                           4                                                  \n",
       "Covariance Type:            nonrobust                                                  \n",
       "==============================================================================\n",
       "                 coef    std err          t      P>|t|      [0.025      0.975]\n",
       "------------------------------------------------------------------------------\n",
       "Mkt-RF         0.2835      0.052      5.416      0.000       0.181       0.386\n",
       "SMB           -0.0510      0.073     -0.702      0.483      -0.194       0.092\n",
       "HML            0.0820      0.071      1.162      0.246      -0.057       0.221\n",
       "Mom            0.0924      0.049      1.896      0.059      -0.003       0.188\n",
       "==============================================================================\n",
       "Omnibus:                      173.157   Durbin-Watson:                   2.057\n",
       "Prob(Omnibus):                  0.000   Jarque-Bera (JB):             2006.255\n",
       "Skew:                           1.525   Prob(JB):                         0.00\n",
       "Kurtosis:                      13.597   Cond. No.                         1.92\n",
       "==============================================================================\n",
       "\n",
       "Notes:\n",
       "[1] R² is computed without centering (uncentered) since the model does not contain a constant.\n",
       "[2] Standard Errors assume that the covariance matrix of the errors is correctly specified.\n",
       "\"\"\""
      ]
     },
     "execution_count": 35,
     "metadata": {},
     "output_type": "execute_result"
    }
   ],
   "source": [
    "resultats.summary()"
   ]
  },
  {
   "cell_type": "markdown",
   "id": "bad877d1",
   "metadata": {},
   "source": [
    "Nous pouvons remarquer que nous n'avons pas de constante alpha (valeur de y si x est 0). Nous allons l'ajouter par nous même grâce au module statsmodels."
   ]
  },
  {
   "cell_type": "code",
   "execution_count": 36,
   "id": "08d97002",
   "metadata": {},
   "outputs": [],
   "source": [
    "NESTLE_df_fusion_constante = statsmodels.tools.add_constant(NESTLE_df_fusion, prepend=True)"
   ]
  },
  {
   "cell_type": "code",
   "execution_count": 37,
   "id": "6285ff4a",
   "metadata": {},
   "outputs": [
    {
     "data": {
      "text/html": [
       "<div>\n",
       "<style scoped>\n",
       "    .dataframe tbody tr th:only-of-type {\n",
       "        vertical-align: middle;\n",
       "    }\n",
       "\n",
       "    .dataframe tbody tr th {\n",
       "        vertical-align: top;\n",
       "    }\n",
       "\n",
       "    .dataframe thead th {\n",
       "        text-align: right;\n",
       "    }\n",
       "</style>\n",
       "<table border=\"1\" class=\"dataframe\">\n",
       "  <thead>\n",
       "    <tr style=\"text-align: right;\">\n",
       "      <th></th>\n",
       "      <th>const</th>\n",
       "      <th>NESTLE</th>\n",
       "      <th>dt_date</th>\n",
       "      <th>Mkt-RF</th>\n",
       "      <th>SMB</th>\n",
       "      <th>HML</th>\n",
       "      <th>RF</th>\n",
       "      <th>Mom</th>\n",
       "      <th>NESTLE_RF</th>\n",
       "    </tr>\n",
       "  </thead>\n",
       "  <tbody>\n",
       "    <tr>\n",
       "      <th>1</th>\n",
       "      <td>1.0</td>\n",
       "      <td>-0.005313</td>\n",
       "      <td>1990-03</td>\n",
       "      <td>1.83</td>\n",
       "      <td>1.50</td>\n",
       "      <td>-2.92</td>\n",
       "      <td>0.64</td>\n",
       "      <td>1.80</td>\n",
       "      <td>-1.171281</td>\n",
       "    </tr>\n",
       "    <tr>\n",
       "      <th>2</th>\n",
       "      <td>1.0</td>\n",
       "      <td>0.005935</td>\n",
       "      <td>1990-04</td>\n",
       "      <td>-3.36</td>\n",
       "      <td>-0.46</td>\n",
       "      <td>-2.59</td>\n",
       "      <td>0.69</td>\n",
       "      <td>2.39</td>\n",
       "      <td>-0.096522</td>\n",
       "    </tr>\n",
       "    <tr>\n",
       "      <th>3</th>\n",
       "      <td>1.0</td>\n",
       "      <td>-0.002950</td>\n",
       "      <td>1990-05</td>\n",
       "      <td>8.42</td>\n",
       "      <td>-2.53</td>\n",
       "      <td>-3.83</td>\n",
       "      <td>0.68</td>\n",
       "      <td>3.03</td>\n",
       "      <td>-0.974998</td>\n",
       "    </tr>\n",
       "    <tr>\n",
       "      <th>4</th>\n",
       "      <td>1.0</td>\n",
       "      <td>0.044379</td>\n",
       "      <td>1990-06</td>\n",
       "      <td>-1.09</td>\n",
       "      <td>1.40</td>\n",
       "      <td>-1.93</td>\n",
       "      <td>0.63</td>\n",
       "      <td>2.40</td>\n",
       "      <td>3.807888</td>\n",
       "    </tr>\n",
       "    <tr>\n",
       "      <th>5</th>\n",
       "      <td>1.0</td>\n",
       "      <td>0.000000</td>\n",
       "      <td>1990-07</td>\n",
       "      <td>-1.90</td>\n",
       "      <td>-3.12</td>\n",
       "      <td>-0.03</td>\n",
       "      <td>0.68</td>\n",
       "      <td>6.10</td>\n",
       "      <td>-0.680000</td>\n",
       "    </tr>\n",
       "    <tr>\n",
       "      <th>...</th>\n",
       "      <td>...</td>\n",
       "      <td>...</td>\n",
       "      <td>...</td>\n",
       "      <td>...</td>\n",
       "      <td>...</td>\n",
       "      <td>...</td>\n",
       "      <td>...</td>\n",
       "      <td>...</td>\n",
       "      <td>...</td>\n",
       "    </tr>\n",
       "    <tr>\n",
       "      <th>392</th>\n",
       "      <td>1.0</td>\n",
       "      <td>0.018304</td>\n",
       "      <td>2022-10</td>\n",
       "      <td>7.83</td>\n",
       "      <td>0.09</td>\n",
       "      <td>8.05</td>\n",
       "      <td>0.23</td>\n",
       "      <td>3.87</td>\n",
       "      <td>1.600406</td>\n",
       "    </tr>\n",
       "    <tr>\n",
       "      <th>393</th>\n",
       "      <td>1.0</td>\n",
       "      <td>0.030264</td>\n",
       "      <td>2022-11</td>\n",
       "      <td>4.60</td>\n",
       "      <td>-3.40</td>\n",
       "      <td>1.38</td>\n",
       "      <td>0.29</td>\n",
       "      <td>-2.01</td>\n",
       "      <td>2.736408</td>\n",
       "    </tr>\n",
       "    <tr>\n",
       "      <th>394</th>\n",
       "      <td>1.0</td>\n",
       "      <td>-0.046288</td>\n",
       "      <td>2022-12</td>\n",
       "      <td>-6.41</td>\n",
       "      <td>-0.68</td>\n",
       "      <td>1.32</td>\n",
       "      <td>0.33</td>\n",
       "      <td>4.52</td>\n",
       "      <td>-4.958803</td>\n",
       "    </tr>\n",
       "    <tr>\n",
       "      <th>395</th>\n",
       "      <td>1.0</td>\n",
       "      <td>0.040508</td>\n",
       "      <td>2023-01</td>\n",
       "      <td>6.65</td>\n",
       "      <td>5.02</td>\n",
       "      <td>-4.05</td>\n",
       "      <td>0.35</td>\n",
       "      <td>-15.96</td>\n",
       "      <td>3.700778</td>\n",
       "    </tr>\n",
       "    <tr>\n",
       "      <th>396</th>\n",
       "      <td>1.0</td>\n",
       "      <td>-0.048439</td>\n",
       "      <td>2023-02</td>\n",
       "      <td>-2.58</td>\n",
       "      <td>1.10</td>\n",
       "      <td>-0.80</td>\n",
       "      <td>0.34</td>\n",
       "      <td>0.06</td>\n",
       "      <td>-5.183919</td>\n",
       "    </tr>\n",
       "  </tbody>\n",
       "</table>\n",
       "<p>396 rows × 9 columns</p>\n",
       "</div>"
      ],
      "text/plain": [
       "     const    NESTLE  dt_date  Mkt-RF   SMB   HML    RF    Mom  NESTLE_RF\n",
       "1      1.0 -0.005313  1990-03    1.83  1.50 -2.92  0.64   1.80  -1.171281\n",
       "2      1.0  0.005935  1990-04   -3.36 -0.46 -2.59  0.69   2.39  -0.096522\n",
       "3      1.0 -0.002950  1990-05    8.42 -2.53 -3.83  0.68   3.03  -0.974998\n",
       "4      1.0  0.044379  1990-06   -1.09  1.40 -1.93  0.63   2.40   3.807888\n",
       "5      1.0  0.000000  1990-07   -1.90 -3.12 -0.03  0.68   6.10  -0.680000\n",
       "..     ...       ...      ...     ...   ...   ...   ...    ...        ...\n",
       "392    1.0  0.018304  2022-10    7.83  0.09  8.05  0.23   3.87   1.600406\n",
       "393    1.0  0.030264  2022-11    4.60 -3.40  1.38  0.29  -2.01   2.736408\n",
       "394    1.0 -0.046288  2022-12   -6.41 -0.68  1.32  0.33   4.52  -4.958803\n",
       "395    1.0  0.040508  2023-01    6.65  5.02 -4.05  0.35 -15.96   3.700778\n",
       "396    1.0 -0.048439  2023-02   -2.58  1.10 -0.80  0.34   0.06  -5.183919\n",
       "\n",
       "[396 rows x 9 columns]"
      ]
     },
     "execution_count": 37,
     "metadata": {},
     "output_type": "execute_result"
    }
   ],
   "source": [
    "NESTLE_df_fusion_constante"
   ]
  },
  {
   "cell_type": "markdown",
   "id": "7798edff",
   "metadata": {},
   "source": [
    "Nous pouvons voir que la première colonne est notre constante composée uniquement de 1, ce qui est nécessaire pour faire tourner notre régression avec une constante."
   ]
  },
  {
   "cell_type": "code",
   "execution_count": 38,
   "id": "24fc6274",
   "metadata": {},
   "outputs": [
    {
     "data": {
      "text/html": [
       "<table class=\"simpletable\">\n",
       "<caption>OLS Regression Results</caption>\n",
       "<tr>\n",
       "  <th>Dep. Variable:</th>        <td>NESTLE_RF</td>    <th>  R-squared:         </th> <td>   0.059</td>\n",
       "</tr>\n",
       "<tr>\n",
       "  <th>Model:</th>                   <td>OLS</td>       <th>  Adj. R-squared:    </th> <td>   0.049</td>\n",
       "</tr>\n",
       "<tr>\n",
       "  <th>Method:</th>             <td>Least Squares</td>  <th>  F-statistic:       </th> <td>   6.109</td>\n",
       "</tr>\n",
       "<tr>\n",
       "  <th>Date:</th>             <td>Sun, 09 Apr 2023</td> <th>  Prob (F-statistic):</th> <td>8.91e-05</td>\n",
       "</tr>\n",
       "<tr>\n",
       "  <th>Time:</th>                 <td>18:47:02</td>     <th>  Log-Likelihood:    </th> <td> -1138.2</td>\n",
       "</tr>\n",
       "<tr>\n",
       "  <th>No. Observations:</th>      <td>   396</td>      <th>  AIC:               </th> <td>   2286.</td>\n",
       "</tr>\n",
       "<tr>\n",
       "  <th>Df Residuals:</th>          <td>   391</td>      <th>  BIC:               </th> <td>   2306.</td>\n",
       "</tr>\n",
       "<tr>\n",
       "  <th>Df Model:</th>              <td>     4</td>      <th>                     </th>     <td> </td>   \n",
       "</tr>\n",
       "<tr>\n",
       "  <th>Covariance Type:</th>      <td>nonrobust</td>    <th>                     </th>     <td> </td>   \n",
       "</tr>\n",
       "</table>\n",
       "<table class=\"simpletable\">\n",
       "<tr>\n",
       "     <td></td>       <th>coef</th>     <th>std err</th>      <th>t</th>      <th>P>|t|</th>  <th>[0.025</th>    <th>0.975]</th>  \n",
       "</tr>\n",
       "<tr>\n",
       "  <th>const</th>  <td>    0.4514</td> <td>    0.223</td> <td>    2.023</td> <td> 0.044</td> <td>    0.013</td> <td>    0.890</td>\n",
       "</tr>\n",
       "<tr>\n",
       "  <th>Mkt-RF</th> <td>    0.2621</td> <td>    0.053</td> <td>    4.926</td> <td> 0.000</td> <td>    0.157</td> <td>    0.367</td>\n",
       "</tr>\n",
       "<tr>\n",
       "  <th>SMB</th>    <td>   -0.0525</td> <td>    0.072</td> <td>   -0.724</td> <td> 0.469</td> <td>   -0.195</td> <td>    0.090</td>\n",
       "</tr>\n",
       "<tr>\n",
       "  <th>HML</th>    <td>    0.0670</td> <td>    0.071</td> <td>    0.949</td> <td> 0.343</td> <td>   -0.072</td> <td>    0.206</td>\n",
       "</tr>\n",
       "<tr>\n",
       "  <th>Mom</th>    <td>    0.0757</td> <td>    0.049</td> <td>    1.536</td> <td> 0.125</td> <td>   -0.021</td> <td>    0.173</td>\n",
       "</tr>\n",
       "</table>\n",
       "<table class=\"simpletable\">\n",
       "<tr>\n",
       "  <th>Omnibus:</th>       <td>174.183</td> <th>  Durbin-Watson:     </th> <td>   2.070</td>\n",
       "</tr>\n",
       "<tr>\n",
       "  <th>Prob(Omnibus):</th> <td> 0.000</td>  <th>  Jarque-Bera (JB):  </th> <td>2027.718</td>\n",
       "</tr>\n",
       "<tr>\n",
       "  <th>Skew:</th>          <td> 1.535</td>  <th>  Prob(JB):          </th> <td>    0.00</td>\n",
       "</tr>\n",
       "<tr>\n",
       "  <th>Kurtosis:</th>      <td>13.652</td>  <th>  Cond. No.          </th> <td>    5.45</td>\n",
       "</tr>\n",
       "</table><br/><br/>Notes:<br/>[1] Standard Errors assume that the covariance matrix of the errors is correctly specified."
      ],
      "text/plain": [
       "<class 'statsmodels.iolib.summary.Summary'>\n",
       "\"\"\"\n",
       "                            OLS Regression Results                            \n",
       "==============================================================================\n",
       "Dep. Variable:              NESTLE_RF   R-squared:                       0.059\n",
       "Model:                            OLS   Adj. R-squared:                  0.049\n",
       "Method:                 Least Squares   F-statistic:                     6.109\n",
       "Date:                Sun, 09 Apr 2023   Prob (F-statistic):           8.91e-05\n",
       "Time:                        18:47:02   Log-Likelihood:                -1138.2\n",
       "No. Observations:                 396   AIC:                             2286.\n",
       "Df Residuals:                     391   BIC:                             2306.\n",
       "Df Model:                           4                                         \n",
       "Covariance Type:            nonrobust                                         \n",
       "==============================================================================\n",
       "                 coef    std err          t      P>|t|      [0.025      0.975]\n",
       "------------------------------------------------------------------------------\n",
       "const          0.4514      0.223      2.023      0.044       0.013       0.890\n",
       "Mkt-RF         0.2621      0.053      4.926      0.000       0.157       0.367\n",
       "SMB           -0.0525      0.072     -0.724      0.469      -0.195       0.090\n",
       "HML            0.0670      0.071      0.949      0.343      -0.072       0.206\n",
       "Mom            0.0757      0.049      1.536      0.125      -0.021       0.173\n",
       "==============================================================================\n",
       "Omnibus:                      174.183   Durbin-Watson:                   2.070\n",
       "Prob(Omnibus):                  0.000   Jarque-Bera (JB):             2027.718\n",
       "Skew:                           1.535   Prob(JB):                         0.00\n",
       "Kurtosis:                      13.652   Cond. No.                         5.45\n",
       "==============================================================================\n",
       "\n",
       "Notes:\n",
       "[1] Standard Errors assume that the covariance matrix of the errors is correctly specified.\n",
       "\"\"\""
      ]
     },
     "execution_count": 38,
     "metadata": {},
     "output_type": "execute_result"
    }
   ],
   "source": [
    "# On ajoute la constante\n",
    "resultats = OLS(NESTLE_df_fusion_constante['NESTLE_RF'], NESTLE_df_fusion_constante[['const', 'Mkt-RF', 'SMB', 'HML', 'Mom']], missing='drop').fit()\n",
    "resultats.summary()"
   ]
  },
  {
   "cell_type": "markdown",
   "id": "436c3ef0",
   "metadata": {},
   "source": [
    "Nous pouvons voir que nous avons maintenant un alpha. "
   ]
  },
  {
   "cell_type": "markdown",
   "id": "aca1c20e",
   "metadata": {},
   "source": [
    "## Analyse des résultats\n",
    "\n",
    "De plus nous observons que l'alpha de Nestlé est positif et assez significatif de 0,45% par mois. \n",
    "\n",
    "Nous utilisons les coefficients de Mkt-RF, SMB et HML en tant que valeur de beta 1 (0.2621), beta 2 (-0.0525) et beta 3 (0.0670). Nous pouvons voir que le SMB peut être moins significatif car la p value est légèrement sous 0.05. Cela pourrait signifier que l'excès de rendement de petites capitalisations par rapoort aux grosses capitalisations pourrait ne pas être un facteur critique. Alors l'action est moins volatile que le marché. On peut prédire que l'action a un risque plus faible mais aussi un rendement plus faible. \n",
    "\n",
    "\n",
    "Le 5,9% (R-squared) de la variabilité des rendements de Nestlé nous suggeste qu'il y a un léger composant particulier.\n",
    "\n",
    "Les effets de SMB et de la détresse relative (HLM) de l’entreprise peuvent ne pas être des facteurs de risques spécifiques mais la réaction excessive des investisseurs."
   ]
  },
  {
   "cell_type": "markdown",
   "id": "0a672eb0",
   "metadata": {},
   "source": [
    "### Calcul du rendement attendu annuel :\n",
    "\n",
    "Nous voyons que le taux sans risque (rf), l'excès de rendement sur le marché (Mkt-RF), SMB et HML sont différents d'un mois à un autre. Nous pouvons alors faire la moyenne pour estimer le rendement attendu de l'action sur la base du modèle Fama-French.\n",
    "\n",
    "Nous créeons une classe possedant deux définitions (Calcul et Resultat) qui nous permettra de calculer notre rendement attendu annuel."
   ]
  },
  {
   "cell_type": "code",
   "execution_count": 68,
   "id": "3f06bc4f",
   "metadata": {},
   "outputs": [
    {
     "name": "stdout",
     "output_type": "stream",
     "text": [
      "Le rendement annuel attendu pour l'entreprise Nestlé est :\n",
      "4.092366878787878\n",
      "%\n"
     ]
    }
   ],
   "source": [
    "class RendementAttendu:\n",
    "    \"Le rendement annuel attendu pour l'entreprise Nestlé est :\"\n",
    "    \n",
    "    def Calcul():\n",
    "        b1= 0.2621\n",
    "        b2= -0.525\n",
    "        b3= 0.067\n",
    "        rf = NESTLE_df_fusion_constante['RF'].mean()\n",
    "        market_premium = NESTLE_df_fusion_constante['Mkt-RF'].mean()\n",
    "        size_premium = NESTLE_df_fusion_constante['SMB'].mean()\n",
    "        value_premium = NESTLE_df_fusion_constante['HML'].mean()\n",
    "        \n",
    "        rend_att_mensuel = rf + b1 * market_premium + b2 * size_premium + b3 * value_premium \n",
    "        rend_att_annuel = rend_att_mensuel * 12\n",
    "        print(str(rend_att_annuel))\n",
    "    \n",
    "    def Resultat():\n",
    "        print(RendementAttendu.__doc__)\n",
    "    \n",
    "    Resultat()\n",
    "    Calcul(), print('%')"
   ]
  },
  {
   "cell_type": "markdown",
   "id": "e6bba60e",
   "metadata": {},
   "source": [
    "Le résultat nous montre que le rendement annuel attendu est de 4.09% avec le model Fama French."
   ]
  },
  {
   "cell_type": "code",
   "execution_count": 45,
   "id": "6565732c",
   "metadata": {},
   "outputs": [
    {
     "name": "stdout",
     "output_type": "stream",
     "text": [
      "0.2621\n"
     ]
    }
   ],
   "source": [
    "#Premier beta\n",
    "p1=RendementAttendu()\n",
    "print(p1.b1)"
   ]
  },
  {
   "cell_type": "code",
   "execution_count": 46,
   "id": "575c36b3",
   "metadata": {},
   "outputs": [
    {
     "name": "stdout",
     "output_type": "stream",
     "text": [
      "-0.525\n"
     ]
    }
   ],
   "source": [
    "#second beta\n",
    "p2=RendementAttendu()\n",
    "print(p2.b2)"
   ]
  },
  {
   "cell_type": "code",
   "execution_count": 115,
   "id": "18222dad",
   "metadata": {},
   "outputs": [
    {
     "name": "stdout",
     "output_type": "stream",
     "text": [
      "0.067\n"
     ]
    }
   ],
   "source": [
    "#troisième beta\n",
    "p3=RendementAttendu()\n",
    "print(p3.b3)"
   ]
  },
  {
   "cell_type": "code",
   "execution_count": null,
   "id": "ca77e152",
   "metadata": {},
   "outputs": [],
   "source": []
  }
 ],
 "metadata": {
  "kernelspec": {
   "display_name": "Python 3 (ipykernel)",
   "language": "python",
   "name": "python3"
  },
  "language_info": {
   "codemirror_mode": {
    "name": "ipython",
    "version": 3
   },
   "file_extension": ".py",
   "mimetype": "text/x-python",
   "name": "python",
   "nbconvert_exporter": "python",
   "pygments_lexer": "ipython3",
   "version": "3.10.9"
  }
 },
 "nbformat": 4,
 "nbformat_minor": 5
}
