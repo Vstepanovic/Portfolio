{
 "cells": [
  {
   "cell_type": "markdown",
   "id": "dfa2cfe8",
   "metadata": {},
   "source": [
    "# Extraction des données d'un site"
   ]
  },
  {
   "cell_type": "markdown",
   "id": "08fc820f",
   "metadata": {},
   "source": [
    "#### Dans ce projet, nous allons récupérer des données d'Amazon à l'aide de BeautifulSoup et de Requests"
   ]
  },
  {
   "cell_type": "code",
   "execution_count": 1,
   "id": "7ea057c8",
   "metadata": {},
   "outputs": [],
   "source": [
    "# Nous allons importer les librairies nécessaires\n",
    "\n",
    "from bs4 import BeautifulSoup # permet de récupérer, analyser des pages Web et d'utiliser les données \n",
    "import requests # HTTP library pour Python\n",
    "import time\n",
    "import datetime\n",
    "import smtplib"
   ]
  },
  {
   "cell_type": "code",
   "execution_count": 10,
   "id": "123aada8",
   "metadata": {},
   "outputs": [],
   "source": [
    "# On se connecte au site \n",
    "\n",
    "URL = 'https://www.amazon.fr/dp/B0B3MTHZJ5/ref=syn_sd_onsite_desktop_0?ie=UTF8&pd_rd_plhdr=t&th=1'\n",
    "\n",
    "headers = {\"User-Agent\": \"Mozilla/5.0 (Windows NT 10.0; Win64; x64) AppleWebKit/537.36 (KHTML, like Gecko) Chrome/111.0.0.0 Safari/537.36\"}\n",
    "    \n",
    "page = requests.get(URL, headers=headers)\n",
    "\n",
    "Soup1 = BeautifulSoup(page.content, \"html.parser\")\n",
    "\n",
    "Soup2 = BeautifulSoup(Soup1.prettify(), \"html.parser\")\n",
    "\n",
    "title = Soup2.find(id=\"productTitle\").get_text()\n",
    "\n",
    "price = Soup2.find(id=\"corePriceDisplay_desktop_feature_div\").get_text()"
   ]
  },
  {
   "cell_type": "code",
   "execution_count": null,
   "id": "305f49df",
   "metadata": {},
   "outputs": [],
   "source": [
    "price = price.strip()[:6]\n",
    "title = title.strip()\n",
    "\n",
    "print(\"Le prix est :\", price)\n",
    "print(\"Le titre est :\",title)"
   ]
  },
  {
   "cell_type": "code",
   "execution_count": null,
   "id": "b55f7e86",
   "metadata": {},
   "outputs": [],
   "source": [
    "import datetime\n",
    "\n",
    "today = datetime.date.today()\n",
    "print(today)"
   ]
  },
  {
   "cell_type": "code",
   "execution_count": null,
   "id": "6ac1bce6",
   "metadata": {},
   "outputs": [],
   "source": [
    "import csv\n",
    "\n",
    "header = ['Title', 'Price', 'Date']\n",
    "data = [title, price, today]\n",
    "\n",
    "with open('AmazonWebScraperDataset.csv', 'w', newline='', encoding='UTF8') as f:\n",
    "    writer = csv.writer(f) #création du csv\n",
    "    writer.writerow(header) #create the header (qui est le prix et le titre)\n",
    "    writer.writerow(data) # création des données"
   ]
  },
  {
   "cell_type": "code",
   "execution_count": null,
   "id": "89ae63a6",
   "metadata": {},
   "outputs": [],
   "source": [
    "import pandas as pd\n",
    "\n",
    "df = pd.read_csv(r'C:\\Users\\Boomi\\Desktop\\AmazonWebScraperDataset.csv')\n",
    "\n",
    "print(df)"
   ]
  },
  {
   "cell_type": "code",
   "execution_count": null,
   "id": "46aace8c",
   "metadata": {},
   "outputs": [],
   "source": [
    "with open('AmazonWebScraperDataset.csv', 'a+', newline='', encoding='UTF8') as f:\n",
    "    writer = csv.writer(f) #création du csv\n",
    "    writer.writerow(data) # création des données"
   ]
  },
  {
   "cell_type": "code",
   "execution_count": null,
   "id": "aae174d1",
   "metadata": {},
   "outputs": [],
   "source": [
    "def send_mail():\n",
    "    server= smtplib.SMTP_SSL('smtp@gmail.com',465)\n",
    "    server.ehlo()\n",
    "    #server.starttis()\n",
    "    server.ehlo()\n",
    "    server.login('vstepanovic@hotmai.com')\n",
    "    \n",
    "    subject = \"Le mangeoire pour oiseaux est inférieur à 200€ ! C'est ta chance pour l'acheter ! \"\n",
    "    body = \"Victoria, c'est le moment que tu attendais. C'est ta chance d'avoir le Mangeoire pour oiseaux !\"\n",
    "    \n",
    "    msg = f\"Subject : {subject}\\n\\n{body}\"\n",
    "    \n",
    "    server.sendmail(\n",
    "        'vstepanovic@hotmail.com',\n",
    "        msg\n",
    "    )"
   ]
  },
  {
   "cell_type": "code",
   "execution_count": null,
   "id": "1cd3fb3e",
   "metadata": {},
   "outputs": [],
   "source": [
    "# on veut que ça tourne automatiquement\n",
    "\n",
    "def check_price():\n",
    "    headers = {\"User-Agent\": \"Mozilla/5.0 (Windows NT 10.0; Win64; x64) AppleWebKit/537.36 (KHTML, like Gecko) Chrome/111.0.0.0 Safari/537.36\"}\n",
    "    \n",
    "    page = requests.get(URL, headers=headers)\n",
    "\n",
    "    Soup1 = BeautifulSoup(page.content, \"html.parser\")\n",
    "\n",
    "    Soup2 = BeautifulSoup(Soup1.prettify(), \"html.parser\")\n",
    "    \n",
    "    title = Soup2.find(id=\"titleSection\").get_text()\n",
    "    price = Soup2.find(id=\"corePriceDisplay_desktop_feature_div\").get_text()\n",
    "    \n",
    "    price = price.strip()[:6]\n",
    "    title = title.strip()\n",
    "    \n",
    "    import datetime\n",
    "    today = datetime.date.today()\n",
    "    print(today)\n",
    "    \n",
    "    import csv\n",
    "    header = ['Title', 'Price', 'Date']\n",
    "    data = [title, price, today]\n",
    "    \n",
    "    with open('AmazonWebScraperDataset.csv', 'a+', newline='', encoding='UTF8') as f:\n",
    "        writer = csv.writer(f) #création du csv\n",
    "        writer.writerow(data) # création des données\n",
    "        \n",
    "        if(price<200):\n",
    "            send_mail()"
   ]
  },
  {
   "cell_type": "markdown",
   "id": "939859d5",
   "metadata": {},
   "source": [
    "#### On va mettre un timer à notre fonction pour qu'on vérifier à un certain temps. On va alors utiliser la librairie \"time\" :"
   ]
  },
  {
   "cell_type": "code",
   "execution_count": null,
   "id": "d72a7452",
   "metadata": {},
   "outputs": [],
   "source": [
    "while(True):\n",
    "    check_price()\n",
    "    time.sleep(86400) #va vérifier le prix tous les jours"
   ]
  },
  {
   "cell_type": "code",
   "execution_count": null,
   "id": "e69cb036",
   "metadata": {},
   "outputs": [],
   "source": [
    "import pandas as pd\n",
    "\n",
    "df = pd.read_csv(r'C:\\Users\\Boomi\\Desktop\\AmazonWebScraperDataset.csv')\n",
    "\n",
    "print(df)"
   ]
  }
 ],
 "metadata": {
  "kernelspec": {
   "display_name": "Python 3 (ipykernel)",
   "language": "python",
   "name": "python3"
  },
  "language_info": {
   "codemirror_mode": {
    "name": "ipython",
    "version": 3
   },
   "file_extension": ".py",
   "mimetype": "text/x-python",
   "name": "python",
   "nbconvert_exporter": "python",
   "pygments_lexer": "ipython3",
   "version": "3.10.9"
  }
 },
 "nbformat": 4,
 "nbformat_minor": 5
}
